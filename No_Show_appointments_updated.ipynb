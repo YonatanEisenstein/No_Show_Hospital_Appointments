{
  "nbformat": 4,
  "nbformat_minor": 0,
  "metadata": {
    "colab": {
      "name": "No-Show_appointments_updated.ipynb",
      "provenance": [],
      "collapsed_sections": [],
      "authorship_tag": "ABX9TyPTzKo6VEcysq14v7vU0dJl",
      "include_colab_link": true
    },
    "kernelspec": {
      "name": "python3",
      "display_name": "Python 3"
    },
    "language_info": {
      "name": "python"
    }
  },
  "cells": [
    {
      "cell_type": "markdown",
      "metadata": {
        "id": "view-in-github",
        "colab_type": "text"
      },
      "source": [
        "<a href=\"https://colab.research.google.com/github/YonatanEisenstein/No_Show_Hospital_Appointments/blob/main/No_Show_appointments_updated.ipynb\" target=\"_parent\"><img src=\"https://colab.research.google.com/assets/colab-badge.svg\" alt=\"Open In Colab\"/></a>"
      ]
    },
    {
      "cell_type": "markdown",
      "metadata": {
        "id": "vSk9Ojus8XFf"
      },
      "source": [
        "# No-Show Appointments Project"
      ]
    },
    {
      "cell_type": "markdown",
      "metadata": {
        "id": "b1qnuvn46Sbd"
      },
      "source": [
        "\n",
        "\n",
        "> *“Coming up with features is difficult, time-consuming, requires expert knowledge. ‘Applied machine learning’ is basically feature engineering.”*\n",
        "\n",
        "\n",
        "\n",
        "---\n",
        "\n",
        "\n",
        "\n",
        "> — Prof. Andrew Ng.\n",
        "\n",
        "\n",
        "\n"
      ]
    },
    {
      "cell_type": "markdown",
      "metadata": {
        "id": "4MWmj5fu8k0l"
      },
      "source": [
        "## Chalenge Description"
      ]
    },
    {
      "cell_type": "markdown",
      "metadata": {
        "id": "rQgVH4nb8YJ6"
      },
      "source": [
        "A person makes a doctor appointment, receives all the instructions and no-show. Who to blame?\n",
        "\n",
        "Content\n",
        "\n",
        "110,527 medical appointments its 14 associated variables (characteristics). The most important one if the patient show-up or no-show to the appointment.\n",
        "\n",
        "Description for the features\n",
        " - \tPatientId - identification of a patient;\n",
        " - AppointmentID - identification of each appointment;\n",
        " - Gender - male or female;\n",
        " - ScheduledDay - day when a patient registered for an appointment;\n",
        " - AppointmentDay - day of actuall appointment;\n",
        " - Age - patient age;\n",
        " - Neighbourhood - where the appointment takes place (hospital location);\n",
        " - Scholarship - 1 for True, 0 for False. For more details read the article (the link is here: https://bit.ly/3AYv4GF);\n",
        " - Hipertension - 1 for True, 0 for False;\n",
        " - Diabetes - 1 for True, 0 for False;\n",
        " - Alcoholism - 1 for True, 0 for False;\n",
        " - Handcap - number of disabilities a patient has;\n",
        " - SMS_received - 1 if one or more messages were sent to the patient;\n",
        " - No-show - 'No' if the patient showed up to their appointment, 'Yes' if they did not show up.\n",
        "\n",
        "Task\n",
        "\n",
        "Is it possible to predict someone to no-show an appointment?\n"
      ]
    },
    {
      "cell_type": "markdown",
      "metadata": {
        "id": "fgIumJEJ_GFR"
      },
      "source": [
        "## Data Uploading and Pre-Processing"
      ]
    },
    {
      "cell_type": "code",
      "metadata": {
        "id": "4_q-MYpR18VM"
      },
      "source": [
        "import numpy as np\n",
        "import pandas as pd\n",
        "import matplotlib.pyplot as plt\n",
        "import seaborn as sns\n",
        "from sklearn.preprocessing import StandardScaler\n",
        "from sklearn.model_selection import train_test_split\n",
        "from sklearn.linear_model import LogisticRegression\n",
        "from sklearn.ensemble import RandomForestClassifier\n",
        "from sklearn.neighbors import KNeighborsClassifier\n",
        "from sklearn.metrics import f1_score\n",
        "from sklearn.metrics import roc_curve\n",
        "from sklearn.metrics import roc_auc_score\n",
        "from sklearn.utils import resample\n",
        "from sklearn.decomposition import PCA\n",
        "from keras.models import Model, load_model\n",
        "from keras.layers import Input, Dense"
      ],
      "execution_count": 2,
      "outputs": []
    },
    {
      "cell_type": "code",
      "metadata": {
        "id": "aHkcOzVZXYii"
      },
      "source": [
        "import warnings\n",
        "warnings.filterwarnings('ignore')"
      ],
      "execution_count": 3,
      "outputs": []
    },
    {
      "cell_type": "code",
      "metadata": {
        "id": "MhNgsMTn2IlP"
      },
      "source": [
        "data = pd.read_csv(\"/content/noshowappointments-kagglev2-may-2016.csv\")"
      ],
      "execution_count": 4,
      "outputs": []
    },
    {
      "cell_type": "code",
      "metadata": {
        "colab": {
          "base_uri": "https://localhost:8080/",
          "height": 330
        },
        "id": "7cSeZjNV2UeE",
        "outputId": "ee4c4b74-4c01-4be7-f23e-50431e7caee3"
      },
      "source": [
        "data.sample(5)"
      ],
      "execution_count": 5,
      "outputs": [
        {
          "output_type": "execute_result",
          "data": {
            "text/html": [
              "<div>\n",
              "<style scoped>\n",
              "    .dataframe tbody tr th:only-of-type {\n",
              "        vertical-align: middle;\n",
              "    }\n",
              "\n",
              "    .dataframe tbody tr th {\n",
              "        vertical-align: top;\n",
              "    }\n",
              "\n",
              "    .dataframe thead th {\n",
              "        text-align: right;\n",
              "    }\n",
              "</style>\n",
              "<table border=\"1\" class=\"dataframe\">\n",
              "  <thead>\n",
              "    <tr style=\"text-align: right;\">\n",
              "      <th></th>\n",
              "      <th>PatientId</th>\n",
              "      <th>AppointmentID</th>\n",
              "      <th>Gender</th>\n",
              "      <th>ScheduledDay</th>\n",
              "      <th>AppointmentDay</th>\n",
              "      <th>Age</th>\n",
              "      <th>Neighbourhood</th>\n",
              "      <th>Scholarship</th>\n",
              "      <th>Hipertension</th>\n",
              "      <th>Diabetes</th>\n",
              "      <th>Alcoholism</th>\n",
              "      <th>Handcap</th>\n",
              "      <th>SMS_received</th>\n",
              "      <th>No-show</th>\n",
              "    </tr>\n",
              "  </thead>\n",
              "  <tbody>\n",
              "    <tr>\n",
              "      <th>66406</th>\n",
              "      <td>8.221545e+14</td>\n",
              "      <td>5671882</td>\n",
              "      <td>M</td>\n",
              "      <td>2016-05-09T07:22:07Z</td>\n",
              "      <td>2016-05-09T00:00:00Z</td>\n",
              "      <td>4</td>\n",
              "      <td>TABUAZEIRO</td>\n",
              "      <td>0</td>\n",
              "      <td>0</td>\n",
              "      <td>0</td>\n",
              "      <td>0</td>\n",
              "      <td>0</td>\n",
              "      <td>0</td>\n",
              "      <td>No</td>\n",
              "    </tr>\n",
              "    <tr>\n",
              "      <th>88999</th>\n",
              "      <td>8.511476e+14</td>\n",
              "      <td>5787602</td>\n",
              "      <td>F</td>\n",
              "      <td>2016-06-08T10:14:36Z</td>\n",
              "      <td>2016-06-08T00:00:00Z</td>\n",
              "      <td>65</td>\n",
              "      <td>ITARARÉ</td>\n",
              "      <td>0</td>\n",
              "      <td>0</td>\n",
              "      <td>0</td>\n",
              "      <td>0</td>\n",
              "      <td>0</td>\n",
              "      <td>0</td>\n",
              "      <td>No</td>\n",
              "    </tr>\n",
              "    <tr>\n",
              "      <th>7447</th>\n",
              "      <td>6.264199e+12</td>\n",
              "      <td>5740974</td>\n",
              "      <td>M</td>\n",
              "      <td>2016-05-25T16:49:09Z</td>\n",
              "      <td>2016-05-25T00:00:00Z</td>\n",
              "      <td>59</td>\n",
              "      <td>JESUS DE NAZARETH</td>\n",
              "      <td>1</td>\n",
              "      <td>0</td>\n",
              "      <td>0</td>\n",
              "      <td>0</td>\n",
              "      <td>0</td>\n",
              "      <td>0</td>\n",
              "      <td>No</td>\n",
              "    </tr>\n",
              "    <tr>\n",
              "      <th>54527</th>\n",
              "      <td>3.197147e+14</td>\n",
              "      <td>5649950</td>\n",
              "      <td>F</td>\n",
              "      <td>2016-05-03T07:21:22Z</td>\n",
              "      <td>2016-05-09T00:00:00Z</td>\n",
              "      <td>61</td>\n",
              "      <td>ILHA DO PRÍNCIPE</td>\n",
              "      <td>0</td>\n",
              "      <td>1</td>\n",
              "      <td>0</td>\n",
              "      <td>0</td>\n",
              "      <td>0</td>\n",
              "      <td>0</td>\n",
              "      <td>Yes</td>\n",
              "    </tr>\n",
              "    <tr>\n",
              "      <th>84047</th>\n",
              "      <td>3.646627e+13</td>\n",
              "      <td>5643118</td>\n",
              "      <td>M</td>\n",
              "      <td>2016-05-02T07:07:56Z</td>\n",
              "      <td>2016-05-02T00:00:00Z</td>\n",
              "      <td>58</td>\n",
              "      <td>SÃO CRISTÓVÃO</td>\n",
              "      <td>0</td>\n",
              "      <td>1</td>\n",
              "      <td>0</td>\n",
              "      <td>0</td>\n",
              "      <td>0</td>\n",
              "      <td>0</td>\n",
              "      <td>No</td>\n",
              "    </tr>\n",
              "  </tbody>\n",
              "</table>\n",
              "</div>"
            ],
            "text/plain": [
              "          PatientId  AppointmentID Gender  ... Handcap SMS_received  No-show\n",
              "66406  8.221545e+14        5671882      M  ...       0            0       No\n",
              "88999  8.511476e+14        5787602      F  ...       0            0       No\n",
              "7447   6.264199e+12        5740974      M  ...       0            0       No\n",
              "54527  3.197147e+14        5649950      F  ...       0            0      Yes\n",
              "84047  3.646627e+13        5643118      M  ...       0            0       No\n",
              "\n",
              "[5 rows x 14 columns]"
            ]
          },
          "metadata": {},
          "execution_count": 5
        }
      ]
    },
    {
      "cell_type": "code",
      "metadata": {
        "colab": {
          "base_uri": "https://localhost:8080/"
        },
        "id": "z4whclHmADxq",
        "outputId": "394b9ba9-1894-49f1-8273-965ba8bb161a"
      },
      "source": [
        "data.shape"
      ],
      "execution_count": 6,
      "outputs": [
        {
          "output_type": "execute_result",
          "data": {
            "text/plain": [
              "(110527, 14)"
            ]
          },
          "metadata": {},
          "execution_count": 6
        }
      ]
    },
    {
      "cell_type": "code",
      "metadata": {
        "colab": {
          "base_uri": "https://localhost:8080/"
        },
        "id": "87hx3rZG29Sj",
        "outputId": "0e4a8842-95ce-4f89-e06f-b76ecfc10763"
      },
      "source": [
        "data.info()"
      ],
      "execution_count": 7,
      "outputs": [
        {
          "output_type": "stream",
          "name": "stdout",
          "text": [
            "<class 'pandas.core.frame.DataFrame'>\n",
            "RangeIndex: 110527 entries, 0 to 110526\n",
            "Data columns (total 14 columns):\n",
            " #   Column          Non-Null Count   Dtype  \n",
            "---  ------          --------------   -----  \n",
            " 0   PatientId       110527 non-null  float64\n",
            " 1   AppointmentID   110527 non-null  int64  \n",
            " 2   Gender          110527 non-null  object \n",
            " 3   ScheduledDay    110527 non-null  object \n",
            " 4   AppointmentDay  110527 non-null  object \n",
            " 5   Age             110527 non-null  int64  \n",
            " 6   Neighbourhood   110527 non-null  object \n",
            " 7   Scholarship     110527 non-null  int64  \n",
            " 8   Hipertension    110527 non-null  int64  \n",
            " 9   Diabetes        110527 non-null  int64  \n",
            " 10  Alcoholism      110527 non-null  int64  \n",
            " 11  Handcap         110527 non-null  int64  \n",
            " 12  SMS_received    110527 non-null  int64  \n",
            " 13  No-show         110527 non-null  object \n",
            "dtypes: float64(1), int64(8), object(5)\n",
            "memory usage: 11.8+ MB\n"
          ]
        }
      ]
    },
    {
      "cell_type": "code",
      "metadata": {
        "colab": {
          "base_uri": "https://localhost:8080/"
        },
        "id": "Ta9p805sALn1",
        "outputId": "643f1c64-27bc-41ef-de76-c209e1070304"
      },
      "source": [
        "data.duplicated().sum()"
      ],
      "execution_count": 8,
      "outputs": [
        {
          "output_type": "execute_result",
          "data": {
            "text/plain": [
              "0"
            ]
          },
          "metadata": {},
          "execution_count": 8
        }
      ]
    },
    {
      "cell_type": "code",
      "metadata": {
        "colab": {
          "base_uri": "https://localhost:8080/",
          "height": 300
        },
        "id": "3Eb98ucY33K6",
        "outputId": "0c7ba804-9d28-4126-d4c9-2093c856358d"
      },
      "source": [
        "data.describe()"
      ],
      "execution_count": 9,
      "outputs": [
        {
          "output_type": "execute_result",
          "data": {
            "text/html": [
              "<div>\n",
              "<style scoped>\n",
              "    .dataframe tbody tr th:only-of-type {\n",
              "        vertical-align: middle;\n",
              "    }\n",
              "\n",
              "    .dataframe tbody tr th {\n",
              "        vertical-align: top;\n",
              "    }\n",
              "\n",
              "    .dataframe thead th {\n",
              "        text-align: right;\n",
              "    }\n",
              "</style>\n",
              "<table border=\"1\" class=\"dataframe\">\n",
              "  <thead>\n",
              "    <tr style=\"text-align: right;\">\n",
              "      <th></th>\n",
              "      <th>PatientId</th>\n",
              "      <th>AppointmentID</th>\n",
              "      <th>Age</th>\n",
              "      <th>Scholarship</th>\n",
              "      <th>Hipertension</th>\n",
              "      <th>Diabetes</th>\n",
              "      <th>Alcoholism</th>\n",
              "      <th>Handcap</th>\n",
              "      <th>SMS_received</th>\n",
              "    </tr>\n",
              "  </thead>\n",
              "  <tbody>\n",
              "    <tr>\n",
              "      <th>count</th>\n",
              "      <td>1.105270e+05</td>\n",
              "      <td>1.105270e+05</td>\n",
              "      <td>110527.000000</td>\n",
              "      <td>110527.000000</td>\n",
              "      <td>110527.000000</td>\n",
              "      <td>110527.000000</td>\n",
              "      <td>110527.000000</td>\n",
              "      <td>110527.000000</td>\n",
              "      <td>110527.000000</td>\n",
              "    </tr>\n",
              "    <tr>\n",
              "      <th>mean</th>\n",
              "      <td>1.474963e+14</td>\n",
              "      <td>5.675305e+06</td>\n",
              "      <td>37.088874</td>\n",
              "      <td>0.098266</td>\n",
              "      <td>0.197246</td>\n",
              "      <td>0.071865</td>\n",
              "      <td>0.030400</td>\n",
              "      <td>0.022248</td>\n",
              "      <td>0.321026</td>\n",
              "    </tr>\n",
              "    <tr>\n",
              "      <th>std</th>\n",
              "      <td>2.560949e+14</td>\n",
              "      <td>7.129575e+04</td>\n",
              "      <td>23.110205</td>\n",
              "      <td>0.297675</td>\n",
              "      <td>0.397921</td>\n",
              "      <td>0.258265</td>\n",
              "      <td>0.171686</td>\n",
              "      <td>0.161543</td>\n",
              "      <td>0.466873</td>\n",
              "    </tr>\n",
              "    <tr>\n",
              "      <th>min</th>\n",
              "      <td>3.921784e+04</td>\n",
              "      <td>5.030230e+06</td>\n",
              "      <td>-1.000000</td>\n",
              "      <td>0.000000</td>\n",
              "      <td>0.000000</td>\n",
              "      <td>0.000000</td>\n",
              "      <td>0.000000</td>\n",
              "      <td>0.000000</td>\n",
              "      <td>0.000000</td>\n",
              "    </tr>\n",
              "    <tr>\n",
              "      <th>25%</th>\n",
              "      <td>4.172614e+12</td>\n",
              "      <td>5.640286e+06</td>\n",
              "      <td>18.000000</td>\n",
              "      <td>0.000000</td>\n",
              "      <td>0.000000</td>\n",
              "      <td>0.000000</td>\n",
              "      <td>0.000000</td>\n",
              "      <td>0.000000</td>\n",
              "      <td>0.000000</td>\n",
              "    </tr>\n",
              "    <tr>\n",
              "      <th>50%</th>\n",
              "      <td>3.173184e+13</td>\n",
              "      <td>5.680573e+06</td>\n",
              "      <td>37.000000</td>\n",
              "      <td>0.000000</td>\n",
              "      <td>0.000000</td>\n",
              "      <td>0.000000</td>\n",
              "      <td>0.000000</td>\n",
              "      <td>0.000000</td>\n",
              "      <td>0.000000</td>\n",
              "    </tr>\n",
              "    <tr>\n",
              "      <th>75%</th>\n",
              "      <td>9.439172e+13</td>\n",
              "      <td>5.725524e+06</td>\n",
              "      <td>55.000000</td>\n",
              "      <td>0.000000</td>\n",
              "      <td>0.000000</td>\n",
              "      <td>0.000000</td>\n",
              "      <td>0.000000</td>\n",
              "      <td>0.000000</td>\n",
              "      <td>1.000000</td>\n",
              "    </tr>\n",
              "    <tr>\n",
              "      <th>max</th>\n",
              "      <td>9.999816e+14</td>\n",
              "      <td>5.790484e+06</td>\n",
              "      <td>115.000000</td>\n",
              "      <td>1.000000</td>\n",
              "      <td>1.000000</td>\n",
              "      <td>1.000000</td>\n",
              "      <td>1.000000</td>\n",
              "      <td>4.000000</td>\n",
              "      <td>1.000000</td>\n",
              "    </tr>\n",
              "  </tbody>\n",
              "</table>\n",
              "</div>"
            ],
            "text/plain": [
              "          PatientId  AppointmentID  ...        Handcap   SMS_received\n",
              "count  1.105270e+05   1.105270e+05  ...  110527.000000  110527.000000\n",
              "mean   1.474963e+14   5.675305e+06  ...       0.022248       0.321026\n",
              "std    2.560949e+14   7.129575e+04  ...       0.161543       0.466873\n",
              "min    3.921784e+04   5.030230e+06  ...       0.000000       0.000000\n",
              "25%    4.172614e+12   5.640286e+06  ...       0.000000       0.000000\n",
              "50%    3.173184e+13   5.680573e+06  ...       0.000000       0.000000\n",
              "75%    9.439172e+13   5.725524e+06  ...       0.000000       1.000000\n",
              "max    9.999816e+14   5.790484e+06  ...       4.000000       1.000000\n",
              "\n",
              "[8 rows x 9 columns]"
            ]
          },
          "metadata": {},
          "execution_count": 9
        }
      ]
    },
    {
      "cell_type": "markdown",
      "metadata": {
        "id": "5IHwOro-Bj85"
      },
      "source": [
        "Well, we have in the data 110,527 rows, 14 features, no mising values and no duplicates. What I will do now is to tranform object Dtype columns into numbers, optimize datatypes and remove columns un-neccessary for model prediction."
      ]
    },
    {
      "cell_type": "code",
      "metadata": {
        "id": "1hkbSPZcCwgg"
      },
      "source": [
        "data_filt = data.drop(['AppointmentID'], axis=1)"
      ],
      "execution_count": 10,
      "outputs": []
    },
    {
      "cell_type": "code",
      "metadata": {
        "id": "CYBRWLojCSXM"
      },
      "source": [
        "data_filt['Is_male'] = data_filt['Gender'].map({'F': 0, 'M':1})\n",
        "data_filt = data_filt.drop(['Gender'], axis=1)\n",
        "data_filt['No-show'] = data_filt['No-show'].map({'No': 0, 'Yes':1})"
      ],
      "execution_count": 11,
      "outputs": []
    },
    {
      "cell_type": "code",
      "metadata": {
        "id": "CAFmtuUnwerd"
      },
      "source": [
        "data_filt['PatientId'] = data_filt['PatientId'].astype('int64')"
      ],
      "execution_count": 12,
      "outputs": []
    },
    {
      "cell_type": "code",
      "metadata": {
        "id": "3V7mVFZ0Ev8N",
        "colab": {
          "base_uri": "https://localhost:8080/",
          "height": 233
        },
        "outputId": "68090f4a-9eed-4980-a501-0c56d4b5b0d5"
      },
      "source": [
        "data_filt.sample(3)"
      ],
      "execution_count": 13,
      "outputs": [
        {
          "output_type": "execute_result",
          "data": {
            "text/html": [
              "<div>\n",
              "<style scoped>\n",
              "    .dataframe tbody tr th:only-of-type {\n",
              "        vertical-align: middle;\n",
              "    }\n",
              "\n",
              "    .dataframe tbody tr th {\n",
              "        vertical-align: top;\n",
              "    }\n",
              "\n",
              "    .dataframe thead th {\n",
              "        text-align: right;\n",
              "    }\n",
              "</style>\n",
              "<table border=\"1\" class=\"dataframe\">\n",
              "  <thead>\n",
              "    <tr style=\"text-align: right;\">\n",
              "      <th></th>\n",
              "      <th>PatientId</th>\n",
              "      <th>ScheduledDay</th>\n",
              "      <th>AppointmentDay</th>\n",
              "      <th>Age</th>\n",
              "      <th>Neighbourhood</th>\n",
              "      <th>Scholarship</th>\n",
              "      <th>Hipertension</th>\n",
              "      <th>Diabetes</th>\n",
              "      <th>Alcoholism</th>\n",
              "      <th>Handcap</th>\n",
              "      <th>SMS_received</th>\n",
              "      <th>No-show</th>\n",
              "      <th>Is_male</th>\n",
              "    </tr>\n",
              "  </thead>\n",
              "  <tbody>\n",
              "    <tr>\n",
              "      <th>5946</th>\n",
              "      <td>191794312198759</td>\n",
              "      <td>2016-04-29T14:00:36Z</td>\n",
              "      <td>2016-05-05T00:00:00Z</td>\n",
              "      <td>29</td>\n",
              "      <td>JESUS DE NAZARETH</td>\n",
              "      <td>0</td>\n",
              "      <td>0</td>\n",
              "      <td>0</td>\n",
              "      <td>0</td>\n",
              "      <td>0</td>\n",
              "      <td>1</td>\n",
              "      <td>1</td>\n",
              "      <td>0</td>\n",
              "    </tr>\n",
              "    <tr>\n",
              "      <th>22958</th>\n",
              "      <td>87341391367826</td>\n",
              "      <td>2016-05-19T09:06:29Z</td>\n",
              "      <td>2016-05-19T00:00:00Z</td>\n",
              "      <td>30</td>\n",
              "      <td>GURIGICA</td>\n",
              "      <td>0</td>\n",
              "      <td>0</td>\n",
              "      <td>0</td>\n",
              "      <td>0</td>\n",
              "      <td>0</td>\n",
              "      <td>0</td>\n",
              "      <td>0</td>\n",
              "      <td>1</td>\n",
              "    </tr>\n",
              "    <tr>\n",
              "      <th>17312</th>\n",
              "      <td>22698922748393</td>\n",
              "      <td>2016-05-02T13:48:48Z</td>\n",
              "      <td>2016-05-09T00:00:00Z</td>\n",
              "      <td>38</td>\n",
              "      <td>COMDUSA</td>\n",
              "      <td>0</td>\n",
              "      <td>0</td>\n",
              "      <td>0</td>\n",
              "      <td>0</td>\n",
              "      <td>0</td>\n",
              "      <td>0</td>\n",
              "      <td>0</td>\n",
              "      <td>1</td>\n",
              "    </tr>\n",
              "  </tbody>\n",
              "</table>\n",
              "</div>"
            ],
            "text/plain": [
              "             PatientId          ScheduledDay  ... No-show  Is_male\n",
              "5946   191794312198759  2016-04-29T14:00:36Z  ...       1        0\n",
              "22958   87341391367826  2016-05-19T09:06:29Z  ...       0        1\n",
              "17312   22698922748393  2016-05-02T13:48:48Z  ...       0        1\n",
              "\n",
              "[3 rows x 13 columns]"
            ]
          },
          "metadata": {},
          "execution_count": 13
        }
      ]
    },
    {
      "cell_type": "code",
      "metadata": {
        "id": "mNv2MjdWFeTf"
      },
      "source": [
        "data_filt['AppointmentWOD'] = pd.to_datetime(data_filt['AppointmentDay']).dt.weekday\n",
        "data_filt['ScheduledHour'] = pd.to_datetime(data_filt['ScheduledDay']).dt.hour\n",
        "data_filt['ScheduledWOD'] = pd.to_datetime(data_filt['ScheduledDay']).dt.weekday\n",
        "data_filt['AppointmentDay'] = pd.to_datetime(data_filt['AppointmentDay']).dt.date\n",
        "data_filt['ScheduledDay'] = pd.to_datetime(data_filt['ScheduledDay']).dt.date"
      ],
      "execution_count": 14,
      "outputs": []
    },
    {
      "cell_type": "code",
      "metadata": {
        "colab": {
          "base_uri": "https://localhost:8080/",
          "height": 313
        },
        "id": "ncZ510gHIAkV",
        "outputId": "f334c880-3cee-4221-c37a-c6b4a73b19c5"
      },
      "source": [
        "data_filt.sample(5)"
      ],
      "execution_count": 15,
      "outputs": [
        {
          "output_type": "execute_result",
          "data": {
            "text/html": [
              "<div>\n",
              "<style scoped>\n",
              "    .dataframe tbody tr th:only-of-type {\n",
              "        vertical-align: middle;\n",
              "    }\n",
              "\n",
              "    .dataframe tbody tr th {\n",
              "        vertical-align: top;\n",
              "    }\n",
              "\n",
              "    .dataframe thead th {\n",
              "        text-align: right;\n",
              "    }\n",
              "</style>\n",
              "<table border=\"1\" class=\"dataframe\">\n",
              "  <thead>\n",
              "    <tr style=\"text-align: right;\">\n",
              "      <th></th>\n",
              "      <th>PatientId</th>\n",
              "      <th>ScheduledDay</th>\n",
              "      <th>AppointmentDay</th>\n",
              "      <th>Age</th>\n",
              "      <th>Neighbourhood</th>\n",
              "      <th>Scholarship</th>\n",
              "      <th>Hipertension</th>\n",
              "      <th>Diabetes</th>\n",
              "      <th>Alcoholism</th>\n",
              "      <th>Handcap</th>\n",
              "      <th>SMS_received</th>\n",
              "      <th>No-show</th>\n",
              "      <th>Is_male</th>\n",
              "      <th>AppointmentWOD</th>\n",
              "      <th>ScheduledHour</th>\n",
              "      <th>ScheduledWOD</th>\n",
              "    </tr>\n",
              "  </thead>\n",
              "  <tbody>\n",
              "    <tr>\n",
              "      <th>4374</th>\n",
              "      <td>995658376348</td>\n",
              "      <td>2016-05-24</td>\n",
              "      <td>2016-05-31</td>\n",
              "      <td>58</td>\n",
              "      <td>JARDIM DA PENHA</td>\n",
              "      <td>0</td>\n",
              "      <td>0</td>\n",
              "      <td>0</td>\n",
              "      <td>0</td>\n",
              "      <td>0</td>\n",
              "      <td>1</td>\n",
              "      <td>1</td>\n",
              "      <td>0</td>\n",
              "      <td>1</td>\n",
              "      <td>15</td>\n",
              "      <td>1</td>\n",
              "    </tr>\n",
              "    <tr>\n",
              "      <th>58899</th>\n",
              "      <td>5542672632822</td>\n",
              "      <td>2016-05-02</td>\n",
              "      <td>2016-05-03</td>\n",
              "      <td>53</td>\n",
              "      <td>NOVA PALESTINA</td>\n",
              "      <td>0</td>\n",
              "      <td>1</td>\n",
              "      <td>0</td>\n",
              "      <td>0</td>\n",
              "      <td>0</td>\n",
              "      <td>0</td>\n",
              "      <td>0</td>\n",
              "      <td>1</td>\n",
              "      <td>1</td>\n",
              "      <td>10</td>\n",
              "      <td>0</td>\n",
              "    </tr>\n",
              "    <tr>\n",
              "      <th>15473</th>\n",
              "      <td>6131813826943</td>\n",
              "      <td>2016-05-05</td>\n",
              "      <td>2016-05-05</td>\n",
              "      <td>28</td>\n",
              "      <td>JESUS DE NAZARETH</td>\n",
              "      <td>0</td>\n",
              "      <td>0</td>\n",
              "      <td>0</td>\n",
              "      <td>0</td>\n",
              "      <td>0</td>\n",
              "      <td>0</td>\n",
              "      <td>0</td>\n",
              "      <td>1</td>\n",
              "      <td>3</td>\n",
              "      <td>7</td>\n",
              "      <td>3</td>\n",
              "    </tr>\n",
              "    <tr>\n",
              "      <th>87056</th>\n",
              "      <td>5414641968494</td>\n",
              "      <td>2016-06-06</td>\n",
              "      <td>2016-06-06</td>\n",
              "      <td>72</td>\n",
              "      <td>JARDIM CAMBURI</td>\n",
              "      <td>0</td>\n",
              "      <td>0</td>\n",
              "      <td>0</td>\n",
              "      <td>0</td>\n",
              "      <td>0</td>\n",
              "      <td>0</td>\n",
              "      <td>0</td>\n",
              "      <td>0</td>\n",
              "      <td>0</td>\n",
              "      <td>8</td>\n",
              "      <td>0</td>\n",
              "    </tr>\n",
              "    <tr>\n",
              "      <th>47567</th>\n",
              "      <td>586714383373963</td>\n",
              "      <td>2016-05-30</td>\n",
              "      <td>2016-05-30</td>\n",
              "      <td>60</td>\n",
              "      <td>MARUÍPE</td>\n",
              "      <td>0</td>\n",
              "      <td>0</td>\n",
              "      <td>0</td>\n",
              "      <td>0</td>\n",
              "      <td>0</td>\n",
              "      <td>0</td>\n",
              "      <td>0</td>\n",
              "      <td>0</td>\n",
              "      <td>0</td>\n",
              "      <td>13</td>\n",
              "      <td>0</td>\n",
              "    </tr>\n",
              "  </tbody>\n",
              "</table>\n",
              "</div>"
            ],
            "text/plain": [
              "             PatientId ScheduledDay  ... ScheduledHour  ScheduledWOD\n",
              "4374      995658376348   2016-05-24  ...            15             1\n",
              "58899    5542672632822   2016-05-02  ...            10             0\n",
              "15473    6131813826943   2016-05-05  ...             7             3\n",
              "87056    5414641968494   2016-06-06  ...             8             0\n",
              "47567  586714383373963   2016-05-30  ...            13             0\n",
              "\n",
              "[5 rows x 16 columns]"
            ]
          },
          "metadata": {},
          "execution_count": 15
        }
      ]
    },
    {
      "cell_type": "code",
      "metadata": {
        "id": "-1T2t2zCMU6F"
      },
      "source": [
        "# create difference number of days between appointment day and scheduled day\n",
        "\n",
        "data_filt['day_diff'] = (data_filt['AppointmentDay'] - data_filt['ScheduledDay']).dt.days"
      ],
      "execution_count": 16,
      "outputs": []
    },
    {
      "cell_type": "code",
      "metadata": {
        "colab": {
          "base_uri": "https://localhost:8080/",
          "height": 295
        },
        "id": "RLvCLosOxEKi",
        "outputId": "3e5604c7-2f09-4a0a-d93a-84816e9000f0"
      },
      "source": [
        "data_filt.sample(5)"
      ],
      "execution_count": 17,
      "outputs": [
        {
          "output_type": "execute_result",
          "data": {
            "text/html": [
              "<div>\n",
              "<style scoped>\n",
              "    .dataframe tbody tr th:only-of-type {\n",
              "        vertical-align: middle;\n",
              "    }\n",
              "\n",
              "    .dataframe tbody tr th {\n",
              "        vertical-align: top;\n",
              "    }\n",
              "\n",
              "    .dataframe thead th {\n",
              "        text-align: right;\n",
              "    }\n",
              "</style>\n",
              "<table border=\"1\" class=\"dataframe\">\n",
              "  <thead>\n",
              "    <tr style=\"text-align: right;\">\n",
              "      <th></th>\n",
              "      <th>PatientId</th>\n",
              "      <th>ScheduledDay</th>\n",
              "      <th>AppointmentDay</th>\n",
              "      <th>Age</th>\n",
              "      <th>Neighbourhood</th>\n",
              "      <th>Scholarship</th>\n",
              "      <th>Hipertension</th>\n",
              "      <th>Diabetes</th>\n",
              "      <th>Alcoholism</th>\n",
              "      <th>Handcap</th>\n",
              "      <th>SMS_received</th>\n",
              "      <th>No-show</th>\n",
              "      <th>Is_male</th>\n",
              "      <th>AppointmentWOD</th>\n",
              "      <th>ScheduledHour</th>\n",
              "      <th>ScheduledWOD</th>\n",
              "      <th>day_diff</th>\n",
              "    </tr>\n",
              "  </thead>\n",
              "  <tbody>\n",
              "    <tr>\n",
              "      <th>58320</th>\n",
              "      <td>372937546963361</td>\n",
              "      <td>2016-05-17</td>\n",
              "      <td>2016-05-19</td>\n",
              "      <td>14</td>\n",
              "      <td>SANTO ANTÔNIO</td>\n",
              "      <td>0</td>\n",
              "      <td>0</td>\n",
              "      <td>0</td>\n",
              "      <td>0</td>\n",
              "      <td>0</td>\n",
              "      <td>0</td>\n",
              "      <td>0</td>\n",
              "      <td>0</td>\n",
              "      <td>3</td>\n",
              "      <td>10</td>\n",
              "      <td>1</td>\n",
              "      <td>2</td>\n",
              "    </tr>\n",
              "    <tr>\n",
              "      <th>92112</th>\n",
              "      <td>736392267261</td>\n",
              "      <td>2016-06-08</td>\n",
              "      <td>2016-06-08</td>\n",
              "      <td>81</td>\n",
              "      <td>PRAIA DO SUÁ</td>\n",
              "      <td>0</td>\n",
              "      <td>1</td>\n",
              "      <td>0</td>\n",
              "      <td>0</td>\n",
              "      <td>0</td>\n",
              "      <td>0</td>\n",
              "      <td>0</td>\n",
              "      <td>0</td>\n",
              "      <td>2</td>\n",
              "      <td>9</td>\n",
              "      <td>2</td>\n",
              "      <td>0</td>\n",
              "    </tr>\n",
              "    <tr>\n",
              "      <th>102648</th>\n",
              "      <td>378614442963774</td>\n",
              "      <td>2016-05-30</td>\n",
              "      <td>2016-06-02</td>\n",
              "      <td>11</td>\n",
              "      <td>SÃO BENEDITO</td>\n",
              "      <td>1</td>\n",
              "      <td>0</td>\n",
              "      <td>0</td>\n",
              "      <td>0</td>\n",
              "      <td>0</td>\n",
              "      <td>1</td>\n",
              "      <td>0</td>\n",
              "      <td>0</td>\n",
              "      <td>3</td>\n",
              "      <td>14</td>\n",
              "      <td>0</td>\n",
              "      <td>3</td>\n",
              "    </tr>\n",
              "    <tr>\n",
              "      <th>2327</th>\n",
              "      <td>255724399778</td>\n",
              "      <td>2016-04-27</td>\n",
              "      <td>2016-04-29</td>\n",
              "      <td>63</td>\n",
              "      <td>JARDIM CAMBURI</td>\n",
              "      <td>0</td>\n",
              "      <td>0</td>\n",
              "      <td>0</td>\n",
              "      <td>0</td>\n",
              "      <td>0</td>\n",
              "      <td>0</td>\n",
              "      <td>0</td>\n",
              "      <td>0</td>\n",
              "      <td>4</td>\n",
              "      <td>7</td>\n",
              "      <td>2</td>\n",
              "      <td>2</td>\n",
              "    </tr>\n",
              "    <tr>\n",
              "      <th>107256</th>\n",
              "      <td>4585562864573</td>\n",
              "      <td>2016-06-08</td>\n",
              "      <td>2016-06-08</td>\n",
              "      <td>68</td>\n",
              "      <td>FRADINHOS</td>\n",
              "      <td>0</td>\n",
              "      <td>0</td>\n",
              "      <td>0</td>\n",
              "      <td>0</td>\n",
              "      <td>0</td>\n",
              "      <td>0</td>\n",
              "      <td>0</td>\n",
              "      <td>0</td>\n",
              "      <td>2</td>\n",
              "      <td>7</td>\n",
              "      <td>2</td>\n",
              "      <td>0</td>\n",
              "    </tr>\n",
              "  </tbody>\n",
              "</table>\n",
              "</div>"
            ],
            "text/plain": [
              "              PatientId ScheduledDay  ... ScheduledWOD  day_diff\n",
              "58320   372937546963361   2016-05-17  ...            1         2\n",
              "92112      736392267261   2016-06-08  ...            2         0\n",
              "102648  378614442963774   2016-05-30  ...            0         3\n",
              "2327       255724399778   2016-04-27  ...            2         2\n",
              "107256    4585562864573   2016-06-08  ...            2         0\n",
              "\n",
              "[5 rows x 17 columns]"
            ]
          },
          "metadata": {},
          "execution_count": 17
        }
      ]
    },
    {
      "cell_type": "markdown",
      "metadata": {
        "id": "LuEpzTBzVb6S"
      },
      "source": [
        "Till now I transformed categorical featurs to numeric, tranformed datetime objects to dates, and hours when the appointment was scheduled was added. In addition, I created new feature which is the difference between scheduled and appointment days. The only categorical feature we have now is the neighborhood which contains 81 different values. I treat it later."
      ]
    },
    {
      "cell_type": "markdown",
      "metadata": {
        "id": "eVHskhpPWvEl"
      },
      "source": [
        "## Exploratory Data Analysis"
      ]
    },
    {
      "cell_type": "code",
      "metadata": {
        "colab": {
          "base_uri": "https://localhost:8080/"
        },
        "id": "eGXYf0zT3Mxc",
        "outputId": "ecf72913-735a-4d20-da17-093f4a5fb67e"
      },
      "source": [
        "data_filt['No-show'].value_counts()"
      ],
      "execution_count": 18,
      "outputs": [
        {
          "output_type": "execute_result",
          "data": {
            "text/plain": [
              "0    88208\n",
              "1    22319\n",
              "Name: No-show, dtype: int64"
            ]
          },
          "metadata": {},
          "execution_count": 18
        }
      ]
    },
    {
      "cell_type": "code",
      "metadata": {
        "colab": {
          "base_uri": "https://localhost:8080/",
          "height": 295
        },
        "id": "bKypKA3CXEOm",
        "outputId": "b5a7eb4b-663e-4556-e016-639cdb0d6b02"
      },
      "source": [
        "sns.countplot(data_filt['No-show'])\n",
        "plt.title(\"Classes relation\")\n",
        "plt.show()"
      ],
      "execution_count": 19,
      "outputs": [
        {
          "output_type": "display_data",
          "data": {
            "image/png": "[encoded data removed]",
            "text/plain": [
              "<Figure size 432x288 with 1 Axes>"
            ]
          },
          "metadata": {
            "needs_background": "light"
          }
        }
      ]
    },
    {
      "cell_type": "markdown",
      "metadata": {
        "id": "TSjb7sncwArT"
      },
      "source": [
        "From the above graph we can see that the data is heavily imbalanced. While 88k patients which is 80 percent of the data arrive the appointment, only 22k not arrived. So when building the model we have to treat the imbalancing issue. For now I will examine the other parameters."
      ]
    },
    {
      "cell_type": "code",
      "metadata": {
        "colab": {
          "base_uri": "https://localhost:8080/"
        },
        "id": "g2dSTY_xw3DD",
        "outputId": "3e073c2f-6145-4e45-943e-d3dfcb5459ef"
      },
      "source": [
        "data_filt['Neighbourhood'].value_counts()"
      ],
      "execution_count": 20,
      "outputs": [
        {
          "output_type": "execute_result",
          "data": {
            "text/plain": [
              "JARDIM CAMBURI                 7717\n",
              "MARIA ORTIZ                    5805\n",
              "RESISTÊNCIA                    4431\n",
              "JARDIM DA PENHA                3877\n",
              "ITARARÉ                        3514\n",
              "                               ... \n",
              "ILHA DO BOI                      35\n",
              "ILHA DO FRADE                    10\n",
              "AEROPORTO                         8\n",
              "ILHAS OCEÂNICAS DE TRINDADE       2\n",
              "PARQUE INDUSTRIAL                 1\n",
              "Name: Neighbourhood, Length: 81, dtype: int64"
            ]
          },
          "metadata": {},
          "execution_count": 20
        }
      ]
    },
    {
      "cell_type": "code",
      "metadata": {
        "colab": {
          "base_uri": "https://localhost:8080/",
          "height": 394
        },
        "id": "_rDGLuTCFiv1",
        "outputId": "8aa82f3d-9ad6-4a1b-92b8-5dfce6f74ede"
      },
      "source": [
        "plt.figure(figsize=(8,6))\n",
        "g = sns.countplot(data_filt['Neighbourhood'], \n",
        "              order = data_filt['Neighbourhood'].value_counts().index)\n",
        "g.set(xticklabels=[])\n",
        "g.set(title=\"Patients per Neighborhood\")\n",
        "plt.show()"
      ],
      "execution_count": 21,
      "outputs": [
        {
          "output_type": "display_data",
          "data": {
            "image/png": "[encoded data removed]",
            "text/plain": [
              "<Figure size 576x432 with 1 Axes>"
            ]
          },
          "metadata": {
            "needs_background": "light"
          }
        }
      ]
    },
    {
      "cell_type": "markdown",
      "metadata": {
        "id": "6kiy2u4Two0m"
      },
      "source": [
        "Number of patiets per neighborhood distributed between 7717 and 1. Lets check out the other features."
      ]
    },
    {
      "cell_type": "code",
      "metadata": {
        "colab": {
          "base_uri": "https://localhost:8080/",
          "height": 1000
        },
        "id": "bdGNwKPWGSjf",
        "outputId": "d6e35fca-3dcf-4f6a-b12d-9ffbca560974"
      },
      "source": [
        "binary_columns = ['Scholarship',\t'Hipertension',\t'Diabetes',\t'Alcoholism',\t'Handcap',\t'SMS_received',\t'Is_male', 'No-show']\n",
        "sns.set_theme(style=\"darkgrid\")\n",
        "\n",
        "a = []\n",
        "fig, axs = plt.subplots(4, 2, figsize=(10,15))\n",
        "fig.tight_layout(h_pad=5, w_pad=5)\n",
        "for i, row in enumerate(axs):\n",
        "    for j, ax in enumerate(row):\n",
        "        a.append(ax)\n",
        "\n",
        "for i, ax in enumerate(a):\n",
        "  sns.countplot(data_filt[binary_columns[i]], ax=ax, palette=\"Set3\")\n",
        "  ax.set_ylabel(\"Count\")"
      ],
      "execution_count": 22,
      "outputs": [
        {
          "output_type": "display_data",
          "data": {
            "image/png": "[encoded data removed]",
            "text/plain": [
              "<Figure size 720x1080 with 8 Axes>"
            ]
          },
          "metadata": {}
        }
      ]
    },
    {
      "cell_type": "markdown",
      "metadata": {
        "id": "87PkWZD4ypi8"
      },
      "source": [
        "As can be seen, in most of the deseases, there is much more patients that do not suffer from the desease, than those who suffer from it. "
      ]
    },
    {
      "cell_type": "code",
      "metadata": {
        "colab": {
          "base_uri": "https://localhost:8080/",
          "height": 301
        },
        "id": "mDEUwoKstb6D",
        "outputId": "15a3eb1f-833b-4c29-8c20-ad1b57ea6ade"
      },
      "source": [
        "sns.histplot(data_filt['Age'], bins=10)\n",
        "plt.title(\"Patients age distribution\")\n",
        "plt.show()"
      ],
      "execution_count": 23,
      "outputs": [
        {
          "output_type": "display_data",
          "data": {
            "image/png": "[encoded data removed]",
            "text/plain": [
              "<Figure size 432x288 with 1 Axes>"
            ]
          },
          "metadata": {}
        }
      ]
    },
    {
      "cell_type": "markdown",
      "metadata": {
        "id": "Pp-Qe5L-0s7j"
      },
      "source": [
        "Age distributed equaly between the groups till the age of 70. There is less patients above the age of 70. Why is that so?"
      ]
    },
    {
      "cell_type": "markdown",
      "metadata": {
        "id": "R7Is5GLS5ePO"
      },
      "source": [
        "For now, lets check the correlation between the different features in the dataset"
      ]
    },
    {
      "cell_type": "code",
      "metadata": {
        "colab": {
          "base_uri": "https://localhost:8080/",
          "height": 700
        },
        "id": "hcNOwRvdwCfM",
        "outputId": "56bcda38-e703-47d1-e800-92ce106b15a0"
      },
      "source": [
        "sns.set_theme(style=\"white\")\n",
        "\n",
        "corr = data_filt.corr()  # Create the pearson correlation metrix object\n",
        "\n",
        "fig, ax = plt.subplots(figsize=(12,10)) # create the figure\n",
        "\n",
        "sns.heatmap(corr, annot=True, cmap='Greens', annot_kws={'rotation':45}) # Draw the heatmap\n",
        "\n",
        "plt.title(\"Correlation Matrix\")\n",
        "plt.show()"
      ],
      "execution_count": 24,
      "outputs": [
        {
          "output_type": "display_data",
          "data": {
            "image/png": "[encoded data removed]",
            "text/plain": [
              "<Figure size 864x720 with 2 Axes>"
            ]
          },
          "metadata": {}
        }
      ]
    },
    {
      "cell_type": "markdown",
      "metadata": {
        "id": "J33NDONJ1OGt"
      },
      "source": [
        "The features that correlated highest to no-show is day difference and sms received or not. In addition, there is correlation between age, diabetes and hypertension. How day_diff distributed?"
      ]
    },
    {
      "cell_type": "code",
      "metadata": {
        "colab": {
          "base_uri": "https://localhost:8080/",
          "height": 301
        },
        "id": "4nwxplU0zzsF",
        "outputId": "56504696-f168-4072-ebb8-5e3a25810f04"
      },
      "source": [
        "sns.histplot(data=data_filt, x='day_diff', bins=10)\n",
        "plt.title(\"Num of days between scheduled and appointment\")\n",
        "plt.show()"
      ],
      "execution_count": 25,
      "outputs": [
        {
          "output_type": "display_data",
          "data": {
            "image/png": "[encoded data removed]",
            "text/plain": [
              "<Figure size 432x288 with 1 Axes>"
            ]
          },
          "metadata": {}
        }
      ]
    },
    {
      "cell_type": "markdown",
      "metadata": {
        "id": "JCwIPyuY1na7"
      },
      "source": [
        "Most of the patients scheduled the meeting in the same day of the meeting itself. there is tail to the right as we move to larger difference."
      ]
    },
    {
      "cell_type": "code",
      "metadata": {
        "colab": {
          "base_uri": "https://localhost:8080/",
          "height": 301
        },
        "id": "HlxwfanX-aAt",
        "outputId": "8de5f9cc-5d0a-47df-8f35-fbff79d36b6b"
      },
      "source": [
        "sns.histplot(data=data_filt, x='day_diff', bins=10, hue='No-show')\n",
        "plt.title(\"Num of days between scheduled and appointment\")\n",
        "plt.show()"
      ],
      "execution_count": 26,
      "outputs": [
        {
          "output_type": "display_data",
          "data": {
            "image/png": "[encoded data removed]",
            "text/plain": [
              "<Figure size 432x288 with 1 Axes>"
            ]
          },
          "metadata": {}
        }
      ]
    },
    {
      "cell_type": "code",
      "metadata": {
        "colab": {
          "base_uri": "https://localhost:8080/",
          "height": 455
        },
        "id": "0460IOUqoPHO",
        "outputId": "1c95c74f-755f-4c60-9707-c24e69afcabe"
      },
      "source": [
        "pivot = data_filt.pivot_table(index = 'day_diff', values='No-show', aggfunc=['sum','count'])\n",
        "pivot.columns = [\"No-show\", \"total\"]\n",
        "pivot['percentage'] = pivot['No-show']/pivot['total']\n",
        "pivot"
      ],
      "execution_count": 27,
      "outputs": [
        {
          "output_type": "execute_result",
          "data": {
            "text/html": [
              "<div>\n",
              "<style scoped>\n",
              "    .dataframe tbody tr th:only-of-type {\n",
              "        vertical-align: middle;\n",
              "    }\n",
              "\n",
              "    .dataframe tbody tr th {\n",
              "        vertical-align: top;\n",
              "    }\n",
              "\n",
              "    .dataframe thead th {\n",
              "        text-align: right;\n",
              "    }\n",
              "</style>\n",
              "<table border=\"1\" class=\"dataframe\">\n",
              "  <thead>\n",
              "    <tr style=\"text-align: right;\">\n",
              "      <th></th>\n",
              "      <th>No-show</th>\n",
              "      <th>total</th>\n",
              "      <th>percentage</th>\n",
              "    </tr>\n",
              "    <tr>\n",
              "      <th>day_diff</th>\n",
              "      <th></th>\n",
              "      <th></th>\n",
              "      <th></th>\n",
              "    </tr>\n",
              "  </thead>\n",
              "  <tbody>\n",
              "    <tr>\n",
              "      <th>-6</th>\n",
              "      <td>1</td>\n",
              "      <td>1</td>\n",
              "      <td>1.000000</td>\n",
              "    </tr>\n",
              "    <tr>\n",
              "      <th>-1</th>\n",
              "      <td>4</td>\n",
              "      <td>4</td>\n",
              "      <td>1.000000</td>\n",
              "    </tr>\n",
              "    <tr>\n",
              "      <th>0</th>\n",
              "      <td>1792</td>\n",
              "      <td>38563</td>\n",
              "      <td>0.046469</td>\n",
              "    </tr>\n",
              "    <tr>\n",
              "      <th>1</th>\n",
              "      <td>1113</td>\n",
              "      <td>5213</td>\n",
              "      <td>0.213505</td>\n",
              "    </tr>\n",
              "    <tr>\n",
              "      <th>2</th>\n",
              "      <td>1602</td>\n",
              "      <td>6725</td>\n",
              "      <td>0.238216</td>\n",
              "    </tr>\n",
              "    <tr>\n",
              "      <th>...</th>\n",
              "      <td>...</td>\n",
              "      <td>...</td>\n",
              "      <td>...</td>\n",
              "    </tr>\n",
              "    <tr>\n",
              "      <th>155</th>\n",
              "      <td>6</td>\n",
              "      <td>10</td>\n",
              "      <td>0.600000</td>\n",
              "    </tr>\n",
              "    <tr>\n",
              "      <th>162</th>\n",
              "      <td>2</td>\n",
              "      <td>11</td>\n",
              "      <td>0.181818</td>\n",
              "    </tr>\n",
              "    <tr>\n",
              "      <th>169</th>\n",
              "      <td>1</td>\n",
              "      <td>8</td>\n",
              "      <td>0.125000</td>\n",
              "    </tr>\n",
              "    <tr>\n",
              "      <th>176</th>\n",
              "      <td>6</td>\n",
              "      <td>16</td>\n",
              "      <td>0.375000</td>\n",
              "    </tr>\n",
              "    <tr>\n",
              "      <th>179</th>\n",
              "      <td>2</td>\n",
              "      <td>10</td>\n",
              "      <td>0.200000</td>\n",
              "    </tr>\n",
              "  </tbody>\n",
              "</table>\n",
              "<p>131 rows × 3 columns</p>\n",
              "</div>"
            ],
            "text/plain": [
              "          No-show  total  percentage\n",
              "day_diff                            \n",
              "-6              1      1    1.000000\n",
              "-1              4      4    1.000000\n",
              " 0           1792  38563    0.046469\n",
              " 1           1113   5213    0.213505\n",
              " 2           1602   6725    0.238216\n",
              "...           ...    ...         ...\n",
              " 155            6     10    0.600000\n",
              " 162            2     11    0.181818\n",
              " 169            1      8    0.125000\n",
              " 176            6     16    0.375000\n",
              " 179            2     10    0.200000\n",
              "\n",
              "[131 rows x 3 columns]"
            ]
          },
          "metadata": {},
          "execution_count": 27
        }
      ]
    },
    {
      "cell_type": "markdown",
      "metadata": {
        "id": "MoGUn-0zrW7h"
      },
      "source": [
        "There is a relation between days diff and no-show as people who scheduled the meeting on the meeting day arrived in 95 percent. Otherwise, the probability to not arrived the appointment increased. \n",
        "\n",
        "In addition, there are some negative values in the day_diff which is imposible since scheduled cannot be placed after the appointment date. I will filter this rows out."
      ]
    },
    {
      "cell_type": "code",
      "metadata": {
        "colab": {
          "base_uri": "https://localhost:8080/"
        },
        "id": "fXGUflIYFjHS",
        "outputId": "55115160-e78d-4eee-bf84-e8ec3ff36aaf"
      },
      "source": [
        "data_filt.drop(data_filt[data_filt.day_diff < 0].index, inplace=True)\n",
        "data_filt.shape"
      ],
      "execution_count": 28,
      "outputs": [
        {
          "output_type": "execute_result",
          "data": {
            "text/plain": [
              "(110522, 17)"
            ]
          },
          "metadata": {},
          "execution_count": 28
        }
      ]
    },
    {
      "cell_type": "markdown",
      "metadata": {
        "id": "syAhHkp5GJo9"
      },
      "source": [
        "Now I will move to check the sms_received column"
      ]
    },
    {
      "cell_type": "code",
      "metadata": {
        "colab": {
          "base_uri": "https://localhost:8080/",
          "height": 143
        },
        "id": "dPQP-5JYqgmO",
        "outputId": "8e6897e6-c923-410e-bf6d-263f218c281b"
      },
      "source": [
        "pivot = data_filt.pivot_table(index = 'SMS_received', values='No-show', aggfunc=['sum','count'])\n",
        "pivot.columns = [\"No-show\", \"total\"]\n",
        "pivot['percentage'] = pivot['No-show']/pivot['total']\n",
        "pivot"
      ],
      "execution_count": 29,
      "outputs": [
        {
          "output_type": "execute_result",
          "data": {
            "text/html": [
              "<div>\n",
              "<style scoped>\n",
              "    .dataframe tbody tr th:only-of-type {\n",
              "        vertical-align: middle;\n",
              "    }\n",
              "\n",
              "    .dataframe tbody tr th {\n",
              "        vertical-align: top;\n",
              "    }\n",
              "\n",
              "    .dataframe thead th {\n",
              "        text-align: right;\n",
              "    }\n",
              "</style>\n",
              "<table border=\"1\" class=\"dataframe\">\n",
              "  <thead>\n",
              "    <tr style=\"text-align: right;\">\n",
              "      <th></th>\n",
              "      <th>No-show</th>\n",
              "      <th>total</th>\n",
              "      <th>percentage</th>\n",
              "    </tr>\n",
              "    <tr>\n",
              "      <th>SMS_received</th>\n",
              "      <th></th>\n",
              "      <th></th>\n",
              "      <th></th>\n",
              "    </tr>\n",
              "  </thead>\n",
              "  <tbody>\n",
              "    <tr>\n",
              "      <th>0</th>\n",
              "      <td>12530</td>\n",
              "      <td>75040</td>\n",
              "      <td>0.166978</td>\n",
              "    </tr>\n",
              "    <tr>\n",
              "      <th>1</th>\n",
              "      <td>9784</td>\n",
              "      <td>35482</td>\n",
              "      <td>0.275745</td>\n",
              "    </tr>\n",
              "  </tbody>\n",
              "</table>\n",
              "</div>"
            ],
            "text/plain": [
              "              No-show  total  percentage\n",
              "SMS_received                            \n",
              "0               12530  75040    0.166978\n",
              "1                9784  35482    0.275745"
            ]
          },
          "metadata": {},
          "execution_count": 29
        }
      ]
    },
    {
      "cell_type": "markdown",
      "metadata": {
        "id": "6dDTrg7Yu45X"
      },
      "source": [
        "Surprisingly, from those who not received sms percentage of not arriving is 0.16, and from those who received, probabilty of not arriving is 0.27.\n",
        "Now lets check out the number of appointments per patient."
      ]
    },
    {
      "cell_type": "code",
      "metadata": {
        "colab": {
          "base_uri": "https://localhost:8080/",
          "height": 237
        },
        "id": "klG7bOlm7-Or",
        "outputId": "1600c746-7a52-4a1d-9bd0-6c63713ae35a"
      },
      "source": [
        "# Checking out numbers of appointments per patient\n",
        "\n",
        "pivot = data_filt.pivot_table(index='PatientId', values='No-show', aggfunc='count')\n",
        "pivot.columns = ['counter']\n",
        "pivot.sample(5)"
      ],
      "execution_count": 30,
      "outputs": [
        {
          "output_type": "execute_result",
          "data": {
            "text/html": [
              "<div>\n",
              "<style scoped>\n",
              "    .dataframe tbody tr th:only-of-type {\n",
              "        vertical-align: middle;\n",
              "    }\n",
              "\n",
              "    .dataframe tbody tr th {\n",
              "        vertical-align: top;\n",
              "    }\n",
              "\n",
              "    .dataframe thead th {\n",
              "        text-align: right;\n",
              "    }\n",
              "</style>\n",
              "<table border=\"1\" class=\"dataframe\">\n",
              "  <thead>\n",
              "    <tr style=\"text-align: right;\">\n",
              "      <th></th>\n",
              "      <th>counter</th>\n",
              "    </tr>\n",
              "    <tr>\n",
              "      <th>PatientId</th>\n",
              "      <th></th>\n",
              "    </tr>\n",
              "  </thead>\n",
              "  <tbody>\n",
              "    <tr>\n",
              "      <th>537881682852133</th>\n",
              "      <td>1</td>\n",
              "    </tr>\n",
              "    <tr>\n",
              "      <th>9125372368582</th>\n",
              "      <td>1</td>\n",
              "    </tr>\n",
              "    <tr>\n",
              "      <th>4537256727396</th>\n",
              "      <td>1</td>\n",
              "    </tr>\n",
              "    <tr>\n",
              "      <th>1765887174389</th>\n",
              "      <td>2</td>\n",
              "    </tr>\n",
              "    <tr>\n",
              "      <th>334777282828197</th>\n",
              "      <td>5</td>\n",
              "    </tr>\n",
              "  </tbody>\n",
              "</table>\n",
              "</div>"
            ],
            "text/plain": [
              "                 counter\n",
              "PatientId               \n",
              "537881682852133        1\n",
              "9125372368582          1\n",
              "4537256727396          1\n",
              "1765887174389          2\n",
              "334777282828197        5"
            ]
          },
          "metadata": {},
          "execution_count": 30
        }
      ]
    },
    {
      "cell_type": "code",
      "metadata": {
        "colab": {
          "base_uri": "https://localhost:8080/"
        },
        "id": "gGeNL277K-y-",
        "outputId": "ae0038d7-50b2-4a62-b3ad-2ed77e508730"
      },
      "source": [
        "print(\"count number of patients per each number of appointments\")\n",
        "pivot['counter'].value_counts().head(10)"
      ],
      "execution_count": 31,
      "outputs": [
        {
          "output_type": "stream",
          "name": "stdout",
          "text": [
            "count number of patients per each number of appointments\n"
          ]
        },
        {
          "output_type": "execute_result",
          "data": {
            "text/plain": [
              "1     37921\n",
              "2     13895\n",
              "3      5499\n",
              "4      2369\n",
              "5      1117\n",
              "6       553\n",
              "7       307\n",
              "8       201\n",
              "9       104\n",
              "10       85\n",
              "Name: counter, dtype: int64"
            ]
          },
          "metadata": {},
          "execution_count": 31
        }
      ]
    },
    {
      "cell_type": "code",
      "metadata": {
        "colab": {
          "base_uri": "https://localhost:8080/",
          "height": 414
        },
        "id": "P13Sart8J_3J",
        "outputId": "7669de87-8752-454f-c7a3-936b194ad3ca"
      },
      "source": [
        "plt.figure(figsize=(8,6))\n",
        "plt.xticks(rotation=90)\n",
        "g = sns.countplot(pivot['counter'], \n",
        "              order = pivot['counter'].value_counts().index)\n",
        "g.set(title=\"Appointments per patient\")\n",
        "plt.show()"
      ],
      "execution_count": 32,
      "outputs": [
        {
          "output_type": "display_data",
          "data": {
            "image/png": "[encoded data removed]",
            "text/plain": [
              "<Figure size 576x432 with 1 Axes>"
            ]
          },
          "metadata": {}
        }
      ]
    },
    {
      "cell_type": "markdown",
      "metadata": {
        "id": "PhQ3dCIGMPuL"
      },
      "source": [
        "As we can see, number of appointments per patient distributed with pick at 1 then with tail to the right. Now lets move to analyze the Neighbourhood feature"
      ]
    },
    {
      "cell_type": "code",
      "metadata": {
        "colab": {
          "base_uri": "https://localhost:8080/",
          "height": 455
        },
        "id": "7gzGVkB1seBg",
        "outputId": "239b14d2-74cf-41c7-91e1-2800375c6115"
      },
      "source": [
        "pivot = data.pivot_table(index = 'Neighbourhood', columns='No-show' , values='Age', aggfunc='count')\n",
        "pivot.columns = [\"arrived\", \"not_arrived\"]\n",
        "pivot['relation'] = pivot['not_arrived']/pivot['arrived']\n",
        "pivot"
      ],
      "execution_count": 33,
      "outputs": [
        {
          "output_type": "execute_result",
          "data": {
            "text/html": [
              "<div>\n",
              "<style scoped>\n",
              "    .dataframe tbody tr th:only-of-type {\n",
              "        vertical-align: middle;\n",
              "    }\n",
              "\n",
              "    .dataframe tbody tr th {\n",
              "        vertical-align: top;\n",
              "    }\n",
              "\n",
              "    .dataframe thead th {\n",
              "        text-align: right;\n",
              "    }\n",
              "</style>\n",
              "<table border=\"1\" class=\"dataframe\">\n",
              "  <thead>\n",
              "    <tr style=\"text-align: right;\">\n",
              "      <th></th>\n",
              "      <th>arrived</th>\n",
              "      <th>not_arrived</th>\n",
              "      <th>relation</th>\n",
              "    </tr>\n",
              "    <tr>\n",
              "      <th>Neighbourhood</th>\n",
              "      <th></th>\n",
              "      <th></th>\n",
              "      <th></th>\n",
              "    </tr>\n",
              "  </thead>\n",
              "  <tbody>\n",
              "    <tr>\n",
              "      <th>AEROPORTO</th>\n",
              "      <td>7.0</td>\n",
              "      <td>1.0</td>\n",
              "      <td>0.142857</td>\n",
              "    </tr>\n",
              "    <tr>\n",
              "      <th>ANDORINHAS</th>\n",
              "      <td>1741.0</td>\n",
              "      <td>521.0</td>\n",
              "      <td>0.299253</td>\n",
              "    </tr>\n",
              "    <tr>\n",
              "      <th>ANTÔNIO HONÓRIO</th>\n",
              "      <td>221.0</td>\n",
              "      <td>50.0</td>\n",
              "      <td>0.226244</td>\n",
              "    </tr>\n",
              "    <tr>\n",
              "      <th>ARIOVALDO FAVALESSA</th>\n",
              "      <td>220.0</td>\n",
              "      <td>62.0</td>\n",
              "      <td>0.281818</td>\n",
              "    </tr>\n",
              "    <tr>\n",
              "      <th>BARRO VERMELHO</th>\n",
              "      <td>332.0</td>\n",
              "      <td>91.0</td>\n",
              "      <td>0.274096</td>\n",
              "    </tr>\n",
              "    <tr>\n",
              "      <th>...</th>\n",
              "      <td>...</td>\n",
              "      <td>...</td>\n",
              "      <td>...</td>\n",
              "    </tr>\n",
              "    <tr>\n",
              "      <th>SÃO JOSÉ</th>\n",
              "      <td>1549.0</td>\n",
              "      <td>428.0</td>\n",
              "      <td>0.276307</td>\n",
              "    </tr>\n",
              "    <tr>\n",
              "      <th>SÃO PEDRO</th>\n",
              "      <td>1933.0</td>\n",
              "      <td>515.0</td>\n",
              "      <td>0.266425</td>\n",
              "    </tr>\n",
              "    <tr>\n",
              "      <th>TABUAZEIRO</th>\n",
              "      <td>2559.0</td>\n",
              "      <td>573.0</td>\n",
              "      <td>0.223916</td>\n",
              "    </tr>\n",
              "    <tr>\n",
              "      <th>UNIVERSITÁRIO</th>\n",
              "      <td>120.0</td>\n",
              "      <td>32.0</td>\n",
              "      <td>0.266667</td>\n",
              "    </tr>\n",
              "    <tr>\n",
              "      <th>VILA RUBIM</th>\n",
              "      <td>710.0</td>\n",
              "      <td>141.0</td>\n",
              "      <td>0.198592</td>\n",
              "    </tr>\n",
              "  </tbody>\n",
              "</table>\n",
              "<p>81 rows × 3 columns</p>\n",
              "</div>"
            ],
            "text/plain": [
              "                     arrived  not_arrived  relation\n",
              "Neighbourhood                                      \n",
              "AEROPORTO                7.0          1.0  0.142857\n",
              "ANDORINHAS            1741.0        521.0  0.299253\n",
              "ANTÔNIO HONÓRIO        221.0         50.0  0.226244\n",
              "ARIOVALDO FAVALESSA    220.0         62.0  0.281818\n",
              "BARRO VERMELHO         332.0         91.0  0.274096\n",
              "...                      ...          ...       ...\n",
              "SÃO JOSÉ              1549.0        428.0  0.276307\n",
              "SÃO PEDRO             1933.0        515.0  0.266425\n",
              "TABUAZEIRO            2559.0        573.0  0.223916\n",
              "UNIVERSITÁRIO          120.0         32.0  0.266667\n",
              "VILA RUBIM             710.0        141.0  0.198592\n",
              "\n",
              "[81 rows x 3 columns]"
            ]
          },
          "metadata": {},
          "execution_count": 33
        }
      ]
    },
    {
      "cell_type": "code",
      "metadata": {
        "colab": {
          "base_uri": "https://localhost:8080/",
          "height": 300
        },
        "id": "QmS6ACymuovY",
        "outputId": "0555fba7-c95c-49a2-e98e-4e07b1c2dfdc"
      },
      "source": [
        "pivot.describe()"
      ],
      "execution_count": 34,
      "outputs": [
        {
          "output_type": "execute_result",
          "data": {
            "text/html": [
              "<div>\n",
              "<style scoped>\n",
              "    .dataframe tbody tr th:only-of-type {\n",
              "        vertical-align: middle;\n",
              "    }\n",
              "\n",
              "    .dataframe tbody tr th {\n",
              "        vertical-align: top;\n",
              "    }\n",
              "\n",
              "    .dataframe thead th {\n",
              "        text-align: right;\n",
              "    }\n",
              "</style>\n",
              "<table border=\"1\" class=\"dataframe\">\n",
              "  <thead>\n",
              "    <tr style=\"text-align: right;\">\n",
              "      <th></th>\n",
              "      <th>arrived</th>\n",
              "      <th>not_arrived</th>\n",
              "      <th>relation</th>\n",
              "    </tr>\n",
              "  </thead>\n",
              "  <tbody>\n",
              "    <tr>\n",
              "      <th>count</th>\n",
              "      <td>80.000000</td>\n",
              "      <td>80.000000</td>\n",
              "      <td>79.000000</td>\n",
              "    </tr>\n",
              "    <tr>\n",
              "      <th>mean</th>\n",
              "      <td>1102.600000</td>\n",
              "      <td>278.987500</td>\n",
              "      <td>0.248762</td>\n",
              "    </tr>\n",
              "    <tr>\n",
              "      <th>std</th>\n",
              "      <td>1096.266756</td>\n",
              "      <td>278.000751</td>\n",
              "      <td>0.049525</td>\n",
              "    </tr>\n",
              "    <tr>\n",
              "      <th>min</th>\n",
              "      <td>1.000000</td>\n",
              "      <td>1.000000</td>\n",
              "      <td>0.093750</td>\n",
              "    </tr>\n",
              "    <tr>\n",
              "      <th>25%</th>\n",
              "      <td>324.000000</td>\n",
              "      <td>75.000000</td>\n",
              "      <td>0.219923</td>\n",
              "    </tr>\n",
              "    <tr>\n",
              "      <th>50%</th>\n",
              "      <td>709.500000</td>\n",
              "      <td>184.500000</td>\n",
              "      <td>0.246243</td>\n",
              "    </tr>\n",
              "    <tr>\n",
              "      <th>75%</th>\n",
              "      <td>1605.000000</td>\n",
              "      <td>428.250000</td>\n",
              "      <td>0.277093</td>\n",
              "    </tr>\n",
              "    <tr>\n",
              "      <th>max</th>\n",
              "      <td>6252.000000</td>\n",
              "      <td>1465.000000</td>\n",
              "      <td>0.406836</td>\n",
              "    </tr>\n",
              "  </tbody>\n",
              "</table>\n",
              "</div>"
            ],
            "text/plain": [
              "           arrived  not_arrived   relation\n",
              "count    80.000000    80.000000  79.000000\n",
              "mean   1102.600000   278.987500   0.248762\n",
              "std    1096.266756   278.000751   0.049525\n",
              "min       1.000000     1.000000   0.093750\n",
              "25%     324.000000    75.000000   0.219923\n",
              "50%     709.500000   184.500000   0.246243\n",
              "75%    1605.000000   428.250000   0.277093\n",
              "max    6252.000000  1465.000000   0.406836"
            ]
          },
          "metadata": {},
          "execution_count": 34
        }
      ]
    },
    {
      "cell_type": "code",
      "metadata": {
        "colab": {
          "base_uri": "https://localhost:8080/",
          "height": 365
        },
        "id": "gpGsS4cuvyLt",
        "outputId": "9c083bf0-21af-43d5-f898-632014cb1c03"
      },
      "source": [
        "fig, axs = plt.subplots(1,2, figsize = (10,5))\n",
        "sns.boxplot(data=pivot, y='relation', ax=axs[0])\n",
        "sns.violinplot(data=pivot, y='relation', ax=axs[1])\n",
        "plt.title(\"Distribution of relation of no-show patients per neighborhood\", loc='right')\n",
        "fig.tight_layout(w_pad=3)\n",
        "plt.show()"
      ],
      "execution_count": 35,
      "outputs": [
        {
          "output_type": "display_data",
          "data": {
            "image/png": "[encoded data removed]",
            "text/plain": [
              "<Figure size 720x360 with 2 Axes>"
            ]
          },
          "metadata": {}
        }
      ]
    },
    {
      "cell_type": "code",
      "metadata": {
        "colab": {
          "base_uri": "https://localhost:8080/",
          "height": 300
        },
        "id": "9gCfTAVgyw0c",
        "outputId": "1a3881cc-a2cd-4379-c78f-2cb5f2dc6f29"
      },
      "source": [
        "pivot[pivot['relation'] > 0.30]"
      ],
      "execution_count": 36,
      "outputs": [
        {
          "output_type": "execute_result",
          "data": {
            "text/html": [
              "<div>\n",
              "<style scoped>\n",
              "    .dataframe tbody tr th:only-of-type {\n",
              "        vertical-align: middle;\n",
              "    }\n",
              "\n",
              "    .dataframe tbody tr th {\n",
              "        vertical-align: top;\n",
              "    }\n",
              "\n",
              "    .dataframe thead th {\n",
              "        text-align: right;\n",
              "    }\n",
              "</style>\n",
              "<table border=\"1\" class=\"dataframe\">\n",
              "  <thead>\n",
              "    <tr style=\"text-align: right;\">\n",
              "      <th></th>\n",
              "      <th>arrived</th>\n",
              "      <th>not_arrived</th>\n",
              "      <th>relation</th>\n",
              "    </tr>\n",
              "    <tr>\n",
              "      <th>Neighbourhood</th>\n",
              "      <th></th>\n",
              "      <th></th>\n",
              "      <th></th>\n",
              "    </tr>\n",
              "  </thead>\n",
              "  <tbody>\n",
              "    <tr>\n",
              "      <th>HORTO</th>\n",
              "      <td>133.0</td>\n",
              "      <td>42.0</td>\n",
              "      <td>0.315789</td>\n",
              "    </tr>\n",
              "    <tr>\n",
              "      <th>ILHA DO PRÍNCIPE</th>\n",
              "      <td>1734.0</td>\n",
              "      <td>532.0</td>\n",
              "      <td>0.306805</td>\n",
              "    </tr>\n",
              "    <tr>\n",
              "      <th>ITARARÉ</th>\n",
              "      <td>2591.0</td>\n",
              "      <td>923.0</td>\n",
              "      <td>0.356233</td>\n",
              "    </tr>\n",
              "    <tr>\n",
              "      <th>JESUS DE NAZARETH</th>\n",
              "      <td>2157.0</td>\n",
              "      <td>696.0</td>\n",
              "      <td>0.322670</td>\n",
              "    </tr>\n",
              "    <tr>\n",
              "      <th>SANTA CECÍLIA</th>\n",
              "      <td>325.0</td>\n",
              "      <td>123.0</td>\n",
              "      <td>0.378462</td>\n",
              "    </tr>\n",
              "    <tr>\n",
              "      <th>SANTA CLARA</th>\n",
              "      <td>372.0</td>\n",
              "      <td>134.0</td>\n",
              "      <td>0.360215</td>\n",
              "    </tr>\n",
              "    <tr>\n",
              "      <th>SANTOS DUMONT</th>\n",
              "      <td>907.0</td>\n",
              "      <td>369.0</td>\n",
              "      <td>0.406836</td>\n",
              "    </tr>\n",
              "  </tbody>\n",
              "</table>\n",
              "</div>"
            ],
            "text/plain": [
              "                   arrived  not_arrived  relation\n",
              "Neighbourhood                                    \n",
              "HORTO                133.0         42.0  0.315789\n",
              "ILHA DO PRÍNCIPE    1734.0        532.0  0.306805\n",
              "ITARARÉ             2591.0        923.0  0.356233\n",
              "JESUS DE NAZARETH   2157.0        696.0  0.322670\n",
              "SANTA CECÍLIA        325.0        123.0  0.378462\n",
              "SANTA CLARA          372.0        134.0  0.360215\n",
              "SANTOS DUMONT        907.0        369.0  0.406836"
            ]
          },
          "metadata": {},
          "execution_count": 36
        }
      ]
    },
    {
      "cell_type": "markdown",
      "metadata": {
        "id": "omAtXisM0p-Q"
      },
      "source": [
        "Well, So there is some neiborhood that have between 30-40 percentage of No-show. As we can see, this neighborhoods are not from the biggest one but also not from the smallest one. \n"
      ]
    },
    {
      "cell_type": "markdown",
      "metadata": {
        "id": "RIp2wG8GXydO"
      },
      "source": [
        "## Models and Predictions"
      ]
    },
    {
      "cell_type": "markdown",
      "metadata": {
        "id": "nMEPXXb68rhh"
      },
      "source": [
        "In this part I execute 4 main steps\n",
        "\n",
        "  - Using available features (without neighborhood).\n",
        "  - Adding Neighbourhood using OHE (using pca and auto-encoder).\n",
        "  - Adding Neighbourhood's and PatientId's no_show rate using feature engineering.\n",
        "\n",
        "General principles for this part:\n",
        "\n",
        " - Classification task. Imbalnced data.\n",
        " - basically I used 3 types of models: RF, LR, KNN\n",
        " - Metrix I used are F1_score and ROC-AUC (data is imbalanced)\n",
        " - Data is splitted into train, validation and test. Firstly I used train and validation to tune hyperparameters, then I used train_validation for training and make predictions on test set.  \n",
        "\n"
      ]
    },
    {
      "cell_type": "markdown",
      "metadata": {
        "id": "oSsEzNLjD15l"
      },
      "source": [
        "### Base Line Model"
      ]
    },
    {
      "cell_type": "markdown",
      "metadata": {
        "id": "FiYlWmMP3CW0"
      },
      "source": [
        "I will begin with models that not take Neighbourhood into account"
      ]
    },
    {
      "cell_type": "markdown",
      "metadata": {
        "id": "PYctDmWimOkf"
      },
      "source": [
        "I will write a function that take dataFrame as argument and returns the F1 and AUC results using logistic regression and random forest"
      ]
    },
    {
      "cell_type": "code",
      "metadata": {
        "id": "f1bdxB0lDrcS"
      },
      "source": [
        "# define state for all the models and spliting processes\n",
        "\n",
        "state = 100"
      ],
      "execution_count": 37,
      "outputs": []
    },
    {
      "cell_type": "code",
      "metadata": {
        "id": "CL1Rkb2SNCmA"
      },
      "source": [
        "def randomForest_logisticRegression (data):\n",
        "\n",
        "  '''\n",
        "  This function apply RF and LR models.\n",
        "  The function returns f1 score and ROC-AUC as results\n",
        "  '''\n",
        "  \n",
        "  # Split the data into train, validation and test\n",
        "\n",
        "  target = data['No-show']\n",
        "  try:\n",
        "    features = data.drop(['No-show', 'Neighbourhood', 'ScheduledDay', 'AppointmentDay'], axis=1)\n",
        "  except:\n",
        "    features = data.drop(['No-show', 'ScheduledDay', 'AppointmentDay'], axis=1)\n",
        "\n",
        "  features_train_valid, features_test, target_train_valid, target_test = train_test_split(\n",
        "      features, target, test_size=0.20, random_state=state\n",
        "  )\n",
        "\n",
        "  features_train, features_valid, target_train, target_valid = train_test_split(\n",
        "      features_train_valid, target_train_valid, test_size=0.25, random_state=state\n",
        "  )\n",
        "  \n",
        "\n",
        "  # apply standard scaler\n",
        "\n",
        "  scaler = StandardScaler()\n",
        "\n",
        "  scaler.fit(features_train)\n",
        "  features_train = scaler.transform(features_train)\n",
        "  features_valid = scaler.transform(features_valid)\n",
        "\n",
        "  scaler.fit(features_train_valid)\n",
        "  features_train_valid = scaler.transform(features_train_valid)\n",
        "  features_test = scaler.transform(features_test)\n",
        "\n",
        "  # apply logistic regression model\n",
        "\n",
        "  model = LogisticRegression(random_state=state, solver='liblinear', class_weight='balanced')\n",
        "  model.fit(features_train_valid, target_train_valid)\n",
        "  predicted_test = model.predict(features_test)\n",
        "\n",
        "  logRegF1 = f1_score(target_test, predicted_test)\n",
        "  logRegAUC = roc_auc_score(target_test, model.predict_proba(features_test)[:,1])\n",
        "\n",
        "  # apply Random Forest model to tune hyperparameters\n",
        "\n",
        "  dict = {}\n",
        "  for depth in range(1, 16, 1):\n",
        "      model = RandomForestClassifier(n_estimators=20, max_depth=depth, random_state=state, class_weight='balanced')\n",
        "      model.fit(features_train, target_train)\n",
        "      predicted_valid = model.predict(features_valid)\n",
        "      f1 = f1_score(target_valid, predicted_valid)\n",
        "      dict[depth] = f1\n",
        "  optimal = max(dict, key=dict.get)\n",
        "  print(\"optimal max depth:\", optimal)\n",
        "\n",
        "  # apply Random Forest model with optimized hyperparameters to predict test set values\n",
        "\n",
        "  print(\"Random forest with 100 estimators\")\n",
        "  print()\n",
        "  model = RandomForestClassifier(n_estimators=100, max_depth=optimal, random_state=state, class_weight='balanced')\n",
        "  model.fit(features_train_valid, target_train_valid)\n",
        "  predicted_test = model.predict(features_test)\n",
        "  randomForestF1 = f1_score(target_test, predicted_test)\n",
        "  randomForestAUC = roc_auc_score(target_test, model.predict_proba(features_test)[:,1])\n",
        "\n",
        "  data = {'F1_score':[logRegF1, randomForestF1],\n",
        "        'ROC-AUC':[logRegAUC, randomForestAUC]}\n",
        " \n",
        "  finalMatrix = pd.DataFrame(data, index =['LogisticRegression',\n",
        "                                'RandomForest'])\n",
        "  \n",
        "  return finalMatrix, target_test, model.predict_proba(features_test)[:,1]"
      ],
      "execution_count": 38,
      "outputs": []
    },
    {
      "cell_type": "code",
      "metadata": {
        "colab": {
          "base_uri": "https://localhost:8080/",
          "height": 164
        },
        "id": "hZTvHdkPNK-a",
        "outputId": "774ac997-19f1-4fd5-b5c8-ca46919371b8"
      },
      "source": [
        "result = randomForest_logisticRegression(data_filt)\n",
        "result[0]"
      ],
      "execution_count": 39,
      "outputs": [
        {
          "output_type": "stream",
          "name": "stdout",
          "text": [
            "optimal max depth: 11\n",
            "Random forest with 100 estimators\n",
            "\n"
          ]
        },
        {
          "output_type": "execute_result",
          "data": {
            "text/html": [
              "<div>\n",
              "<style scoped>\n",
              "    .dataframe tbody tr th:only-of-type {\n",
              "        vertical-align: middle;\n",
              "    }\n",
              "\n",
              "    .dataframe tbody tr th {\n",
              "        vertical-align: top;\n",
              "    }\n",
              "\n",
              "    .dataframe thead th {\n",
              "        text-align: right;\n",
              "    }\n",
              "</style>\n",
              "<table border=\"1\" class=\"dataframe\">\n",
              "  <thead>\n",
              "    <tr style=\"text-align: right;\">\n",
              "      <th></th>\n",
              "      <th>F1_score</th>\n",
              "      <th>ROC-AUC</th>\n",
              "    </tr>\n",
              "  </thead>\n",
              "  <tbody>\n",
              "    <tr>\n",
              "      <th>LogisticRegression</th>\n",
              "      <td>0.415574</td>\n",
              "      <td>0.678559</td>\n",
              "    </tr>\n",
              "    <tr>\n",
              "      <th>RandomForest</th>\n",
              "      <td>0.452381</td>\n",
              "      <td>0.740842</td>\n",
              "    </tr>\n",
              "  </tbody>\n",
              "</table>\n",
              "</div>"
            ],
            "text/plain": [
              "                    F1_score   ROC-AUC\n",
              "LogisticRegression  0.415574  0.678559\n",
              "RandomForest        0.452381  0.740842"
            ]
          },
          "metadata": {},
          "execution_count": 39
        }
      ]
    },
    {
      "cell_type": "code",
      "metadata": {
        "id": "YFyrUAT_xno1",
        "colab": {
          "base_uri": "https://localhost:8080/",
          "height": 301
        },
        "outputId": "3e213004-718e-4b04-ecbe-1a2a0d4dd9ea"
      },
      "source": [
        "# plot roc-auc graph\n",
        "\n",
        "fpr, tpr, thresholds = roc_curve(result[1], result[2])\n",
        "\n",
        "plt.figure()\n",
        "\n",
        "# plot the graph \n",
        "plt.plot(fpr, tpr)\n",
        "plt.title(\"ROC curve Random Forest\")\n",
        "\n",
        "# ROC curve for random model (looks like a straight line)\n",
        "plt.plot([0, 1], [0, 1], linestyle='--')\n",
        "\n",
        "#  use the functions plt.xlim() and plt.ylim() to set the boundary for the axes from 0 to 1 \n",
        "\n",
        "plt.xlim([0.0,1.0])\n",
        "plt.ylim([0.0,1.0])\n",
        "\n",
        "# use the functions plt.xlabel() and plt.ylabel() to name the axes \"False Positive Rate\" and \"True Positive Rate\" \n",
        "\n",
        "plt.xlabel(\"False Positive Rate\")\n",
        "plt.ylabel(\"True Positive Rate\")\n",
        "\n",
        "plt.show()"
      ],
      "execution_count": 40,
      "outputs": [
        {
          "output_type": "display_data",
          "data": {
            "image/png": "[encoded data removed]",
            "text/plain": [
              "<Figure size 432x288 with 1 Axes>"
            ]
          },
          "metadata": {}
        }
      ]
    },
    {
      "cell_type": "markdown",
      "metadata": {
        "id": "Ly4Tisq7388x"
      },
      "source": [
        "Not bad, not so good. Lets try to use neighborhood feature also"
      ]
    },
    {
      "cell_type": "markdown",
      "metadata": {
        "id": "EGLZMne77ghh"
      },
      "source": [
        "### Use Neighborhood feature using OHE, PCA and AutoEncoder"
      ]
    },
    {
      "cell_type": "markdown",
      "metadata": {
        "id": "Rw0tm7Fo8yHm"
      },
      "source": [
        "In this stage I will use One Hot Encoding in order to encode the neighbourhood feature. Because OHE create column for each unique neighbourhood I need to reduce dimensionality and thats could be done usig pca or autoencoder. The basic difference between the 2 option is that while pce use linear methods only autoencoder use non-linear transformations, which enlarge the flexibilty of the transformation. For additional reading see the links below\n",
        "\n",
        " - For good explanation of pca see here: https://builtin.com/data-science/step-step-explanation-principal-component-analysis\n",
        "\n",
        " - For Auto Encoder Explanation see here: https://towardsdatascience.com/dimensionality-reduction-pca-versus-autoencoders-338fcaf3297d"
      ]
    },
    {
      "cell_type": "code",
      "metadata": {
        "id": "OXUzx4rOMtIS",
        "colab": {
          "base_uri": "https://localhost:8080/",
          "height": 273
        },
        "outputId": "3ddfb2dd-3d13-4a7c-bc6a-846d263d9fd4"
      },
      "source": [
        "# Using OHE to encode Neighbourhood column\n",
        "\n",
        "data_ohe = pd.get_dummies(data_filt.drop(['AppointmentDay', 'ScheduledDay'], axis=1), drop_first=False) # OHE and remove first column to avoid highly correlated columns which confused the model\n",
        "data_ohe.head()"
      ],
      "execution_count": 41,
      "outputs": [
        {
          "output_type": "execute_result",
          "data": {
            "text/html": [
              "<div>\n",
              "<style scoped>\n",
              "    .dataframe tbody tr th:only-of-type {\n",
              "        vertical-align: middle;\n",
              "    }\n",
              "\n",
              "    .dataframe tbody tr th {\n",
              "        vertical-align: top;\n",
              "    }\n",
              "\n",
              "    .dataframe thead th {\n",
              "        text-align: right;\n",
              "    }\n",
              "</style>\n",
              "<table border=\"1\" class=\"dataframe\">\n",
              "  <thead>\n",
              "    <tr style=\"text-align: right;\">\n",
              "      <th></th>\n",
              "      <th>PatientId</th>\n",
              "      <th>Age</th>\n",
              "      <th>Scholarship</th>\n",
              "      <th>Hipertension</th>\n",
              "      <th>Diabetes</th>\n",
              "      <th>Alcoholism</th>\n",
              "      <th>Handcap</th>\n",
              "      <th>SMS_received</th>\n",
              "      <th>No-show</th>\n",
              "      <th>Is_male</th>\n",
              "      <th>AppointmentWOD</th>\n",
              "      <th>ScheduledHour</th>\n",
              "      <th>ScheduledWOD</th>\n",
              "      <th>day_diff</th>\n",
              "      <th>Neighbourhood_AEROPORTO</th>\n",
              "      <th>Neighbourhood_ANDORINHAS</th>\n",
              "      <th>Neighbourhood_ANTÔNIO HONÓRIO</th>\n",
              "      <th>Neighbourhood_ARIOVALDO FAVALESSA</th>\n",
              "      <th>Neighbourhood_BARRO VERMELHO</th>\n",
              "      <th>Neighbourhood_BELA VISTA</th>\n",
              "      <th>Neighbourhood_BENTO FERREIRA</th>\n",
              "      <th>Neighbourhood_BOA VISTA</th>\n",
              "      <th>Neighbourhood_BONFIM</th>\n",
              "      <th>Neighbourhood_CARATOÍRA</th>\n",
              "      <th>Neighbourhood_CENTRO</th>\n",
              "      <th>Neighbourhood_COMDUSA</th>\n",
              "      <th>Neighbourhood_CONQUISTA</th>\n",
              "      <th>Neighbourhood_CONSOLAÇÃO</th>\n",
              "      <th>Neighbourhood_CRUZAMENTO</th>\n",
              "      <th>Neighbourhood_DA PENHA</th>\n",
              "      <th>Neighbourhood_DE LOURDES</th>\n",
              "      <th>Neighbourhood_DO CABRAL</th>\n",
              "      <th>Neighbourhood_DO MOSCOSO</th>\n",
              "      <th>Neighbourhood_DO QUADRO</th>\n",
              "      <th>Neighbourhood_ENSEADA DO SUÁ</th>\n",
              "      <th>Neighbourhood_ESTRELINHA</th>\n",
              "      <th>Neighbourhood_FONTE GRANDE</th>\n",
              "      <th>Neighbourhood_FORTE SÃO JOÃO</th>\n",
              "      <th>Neighbourhood_FRADINHOS</th>\n",
              "      <th>Neighbourhood_GOIABEIRAS</th>\n",
              "      <th>...</th>\n",
              "      <th>Neighbourhood_JOANA D´ARC</th>\n",
              "      <th>Neighbourhood_JUCUTUQUARA</th>\n",
              "      <th>Neighbourhood_MARIA ORTIZ</th>\n",
              "      <th>Neighbourhood_MARUÍPE</th>\n",
              "      <th>Neighbourhood_MATA DA PRAIA</th>\n",
              "      <th>Neighbourhood_MONTE BELO</th>\n",
              "      <th>Neighbourhood_MORADA DE CAMBURI</th>\n",
              "      <th>Neighbourhood_MÁRIO CYPRESTE</th>\n",
              "      <th>Neighbourhood_NAZARETH</th>\n",
              "      <th>Neighbourhood_NOVA PALESTINA</th>\n",
              "      <th>Neighbourhood_PARQUE INDUSTRIAL</th>\n",
              "      <th>Neighbourhood_PARQUE MOSCOSO</th>\n",
              "      <th>Neighbourhood_PIEDADE</th>\n",
              "      <th>Neighbourhood_PONTAL DE CAMBURI</th>\n",
              "      <th>Neighbourhood_PRAIA DO CANTO</th>\n",
              "      <th>Neighbourhood_PRAIA DO SUÁ</th>\n",
              "      <th>Neighbourhood_REDENÇÃO</th>\n",
              "      <th>Neighbourhood_REPÚBLICA</th>\n",
              "      <th>Neighbourhood_RESISTÊNCIA</th>\n",
              "      <th>Neighbourhood_ROMÃO</th>\n",
              "      <th>Neighbourhood_SANTA CECÍLIA</th>\n",
              "      <th>Neighbourhood_SANTA CLARA</th>\n",
              "      <th>Neighbourhood_SANTA HELENA</th>\n",
              "      <th>Neighbourhood_SANTA LUÍZA</th>\n",
              "      <th>Neighbourhood_SANTA LÚCIA</th>\n",
              "      <th>Neighbourhood_SANTA MARTHA</th>\n",
              "      <th>Neighbourhood_SANTA TEREZA</th>\n",
              "      <th>Neighbourhood_SANTO ANDRÉ</th>\n",
              "      <th>Neighbourhood_SANTO ANTÔNIO</th>\n",
              "      <th>Neighbourhood_SANTOS DUMONT</th>\n",
              "      <th>Neighbourhood_SANTOS REIS</th>\n",
              "      <th>Neighbourhood_SEGURANÇA DO LAR</th>\n",
              "      <th>Neighbourhood_SOLON BORGES</th>\n",
              "      <th>Neighbourhood_SÃO BENEDITO</th>\n",
              "      <th>Neighbourhood_SÃO CRISTÓVÃO</th>\n",
              "      <th>Neighbourhood_SÃO JOSÉ</th>\n",
              "      <th>Neighbourhood_SÃO PEDRO</th>\n",
              "      <th>Neighbourhood_TABUAZEIRO</th>\n",
              "      <th>Neighbourhood_UNIVERSITÁRIO</th>\n",
              "      <th>Neighbourhood_VILA RUBIM</th>\n",
              "    </tr>\n",
              "  </thead>\n",
              "  <tbody>\n",
              "    <tr>\n",
              "      <th>0</th>\n",
              "      <td>29872499824296</td>\n",
              "      <td>62</td>\n",
              "      <td>0</td>\n",
              "      <td>1</td>\n",
              "      <td>0</td>\n",
              "      <td>0</td>\n",
              "      <td>0</td>\n",
              "      <td>0</td>\n",
              "      <td>0</td>\n",
              "      <td>0</td>\n",
              "      <td>4</td>\n",
              "      <td>18</td>\n",
              "      <td>4</td>\n",
              "      <td>0</td>\n",
              "      <td>0</td>\n",
              "      <td>0</td>\n",
              "      <td>0</td>\n",
              "      <td>0</td>\n",
              "      <td>0</td>\n",
              "      <td>0</td>\n",
              "      <td>0</td>\n",
              "      <td>0</td>\n",
              "      <td>0</td>\n",
              "      <td>0</td>\n",
              "      <td>0</td>\n",
              "      <td>0</td>\n",
              "      <td>0</td>\n",
              "      <td>0</td>\n",
              "      <td>0</td>\n",
              "      <td>0</td>\n",
              "      <td>0</td>\n",
              "      <td>0</td>\n",
              "      <td>0</td>\n",
              "      <td>0</td>\n",
              "      <td>0</td>\n",
              "      <td>0</td>\n",
              "      <td>0</td>\n",
              "      <td>0</td>\n",
              "      <td>0</td>\n",
              "      <td>0</td>\n",
              "      <td>...</td>\n",
              "      <td>0</td>\n",
              "      <td>0</td>\n",
              "      <td>0</td>\n",
              "      <td>0</td>\n",
              "      <td>0</td>\n",
              "      <td>0</td>\n",
              "      <td>0</td>\n",
              "      <td>0</td>\n",
              "      <td>0</td>\n",
              "      <td>0</td>\n",
              "      <td>0</td>\n",
              "      <td>0</td>\n",
              "      <td>0</td>\n",
              "      <td>0</td>\n",
              "      <td>0</td>\n",
              "      <td>0</td>\n",
              "      <td>0</td>\n",
              "      <td>0</td>\n",
              "      <td>0</td>\n",
              "      <td>0</td>\n",
              "      <td>0</td>\n",
              "      <td>0</td>\n",
              "      <td>0</td>\n",
              "      <td>0</td>\n",
              "      <td>0</td>\n",
              "      <td>0</td>\n",
              "      <td>0</td>\n",
              "      <td>0</td>\n",
              "      <td>0</td>\n",
              "      <td>0</td>\n",
              "      <td>0</td>\n",
              "      <td>0</td>\n",
              "      <td>0</td>\n",
              "      <td>0</td>\n",
              "      <td>0</td>\n",
              "      <td>0</td>\n",
              "      <td>0</td>\n",
              "      <td>0</td>\n",
              "      <td>0</td>\n",
              "      <td>0</td>\n",
              "    </tr>\n",
              "    <tr>\n",
              "      <th>1</th>\n",
              "      <td>558997776694438</td>\n",
              "      <td>56</td>\n",
              "      <td>0</td>\n",
              "      <td>0</td>\n",
              "      <td>0</td>\n",
              "      <td>0</td>\n",
              "      <td>0</td>\n",
              "      <td>0</td>\n",
              "      <td>0</td>\n",
              "      <td>1</td>\n",
              "      <td>4</td>\n",
              "      <td>16</td>\n",
              "      <td>4</td>\n",
              "      <td>0</td>\n",
              "      <td>0</td>\n",
              "      <td>0</td>\n",
              "      <td>0</td>\n",
              "      <td>0</td>\n",
              "      <td>0</td>\n",
              "      <td>0</td>\n",
              "      <td>0</td>\n",
              "      <td>0</td>\n",
              "      <td>0</td>\n",
              "      <td>0</td>\n",
              "      <td>0</td>\n",
              "      <td>0</td>\n",
              "      <td>0</td>\n",
              "      <td>0</td>\n",
              "      <td>0</td>\n",
              "      <td>0</td>\n",
              "      <td>0</td>\n",
              "      <td>0</td>\n",
              "      <td>0</td>\n",
              "      <td>0</td>\n",
              "      <td>0</td>\n",
              "      <td>0</td>\n",
              "      <td>0</td>\n",
              "      <td>0</td>\n",
              "      <td>0</td>\n",
              "      <td>0</td>\n",
              "      <td>...</td>\n",
              "      <td>0</td>\n",
              "      <td>0</td>\n",
              "      <td>0</td>\n",
              "      <td>0</td>\n",
              "      <td>0</td>\n",
              "      <td>0</td>\n",
              "      <td>0</td>\n",
              "      <td>0</td>\n",
              "      <td>0</td>\n",
              "      <td>0</td>\n",
              "      <td>0</td>\n",
              "      <td>0</td>\n",
              "      <td>0</td>\n",
              "      <td>0</td>\n",
              "      <td>0</td>\n",
              "      <td>0</td>\n",
              "      <td>0</td>\n",
              "      <td>0</td>\n",
              "      <td>0</td>\n",
              "      <td>0</td>\n",
              "      <td>0</td>\n",
              "      <td>0</td>\n",
              "      <td>0</td>\n",
              "      <td>0</td>\n",
              "      <td>0</td>\n",
              "      <td>0</td>\n",
              "      <td>0</td>\n",
              "      <td>0</td>\n",
              "      <td>0</td>\n",
              "      <td>0</td>\n",
              "      <td>0</td>\n",
              "      <td>0</td>\n",
              "      <td>0</td>\n",
              "      <td>0</td>\n",
              "      <td>0</td>\n",
              "      <td>0</td>\n",
              "      <td>0</td>\n",
              "      <td>0</td>\n",
              "      <td>0</td>\n",
              "      <td>0</td>\n",
              "    </tr>\n",
              "    <tr>\n",
              "      <th>2</th>\n",
              "      <td>4262962299951</td>\n",
              "      <td>62</td>\n",
              "      <td>0</td>\n",
              "      <td>0</td>\n",
              "      <td>0</td>\n",
              "      <td>0</td>\n",
              "      <td>0</td>\n",
              "      <td>0</td>\n",
              "      <td>0</td>\n",
              "      <td>0</td>\n",
              "      <td>4</td>\n",
              "      <td>16</td>\n",
              "      <td>4</td>\n",
              "      <td>0</td>\n",
              "      <td>0</td>\n",
              "      <td>0</td>\n",
              "      <td>0</td>\n",
              "      <td>0</td>\n",
              "      <td>0</td>\n",
              "      <td>0</td>\n",
              "      <td>0</td>\n",
              "      <td>0</td>\n",
              "      <td>0</td>\n",
              "      <td>0</td>\n",
              "      <td>0</td>\n",
              "      <td>0</td>\n",
              "      <td>0</td>\n",
              "      <td>0</td>\n",
              "      <td>0</td>\n",
              "      <td>0</td>\n",
              "      <td>0</td>\n",
              "      <td>0</td>\n",
              "      <td>0</td>\n",
              "      <td>0</td>\n",
              "      <td>0</td>\n",
              "      <td>0</td>\n",
              "      <td>0</td>\n",
              "      <td>0</td>\n",
              "      <td>0</td>\n",
              "      <td>0</td>\n",
              "      <td>...</td>\n",
              "      <td>0</td>\n",
              "      <td>0</td>\n",
              "      <td>0</td>\n",
              "      <td>0</td>\n",
              "      <td>1</td>\n",
              "      <td>0</td>\n",
              "      <td>0</td>\n",
              "      <td>0</td>\n",
              "      <td>0</td>\n",
              "      <td>0</td>\n",
              "      <td>0</td>\n",
              "      <td>0</td>\n",
              "      <td>0</td>\n",
              "      <td>0</td>\n",
              "      <td>0</td>\n",
              "      <td>0</td>\n",
              "      <td>0</td>\n",
              "      <td>0</td>\n",
              "      <td>0</td>\n",
              "      <td>0</td>\n",
              "      <td>0</td>\n",
              "      <td>0</td>\n",
              "      <td>0</td>\n",
              "      <td>0</td>\n",
              "      <td>0</td>\n",
              "      <td>0</td>\n",
              "      <td>0</td>\n",
              "      <td>0</td>\n",
              "      <td>0</td>\n",
              "      <td>0</td>\n",
              "      <td>0</td>\n",
              "      <td>0</td>\n",
              "      <td>0</td>\n",
              "      <td>0</td>\n",
              "      <td>0</td>\n",
              "      <td>0</td>\n",
              "      <td>0</td>\n",
              "      <td>0</td>\n",
              "      <td>0</td>\n",
              "      <td>0</td>\n",
              "    </tr>\n",
              "    <tr>\n",
              "      <th>3</th>\n",
              "      <td>867951213174</td>\n",
              "      <td>8</td>\n",
              "      <td>0</td>\n",
              "      <td>0</td>\n",
              "      <td>0</td>\n",
              "      <td>0</td>\n",
              "      <td>0</td>\n",
              "      <td>0</td>\n",
              "      <td>0</td>\n",
              "      <td>0</td>\n",
              "      <td>4</td>\n",
              "      <td>17</td>\n",
              "      <td>4</td>\n",
              "      <td>0</td>\n",
              "      <td>0</td>\n",
              "      <td>0</td>\n",
              "      <td>0</td>\n",
              "      <td>0</td>\n",
              "      <td>0</td>\n",
              "      <td>0</td>\n",
              "      <td>0</td>\n",
              "      <td>0</td>\n",
              "      <td>0</td>\n",
              "      <td>0</td>\n",
              "      <td>0</td>\n",
              "      <td>0</td>\n",
              "      <td>0</td>\n",
              "      <td>0</td>\n",
              "      <td>0</td>\n",
              "      <td>0</td>\n",
              "      <td>0</td>\n",
              "      <td>0</td>\n",
              "      <td>0</td>\n",
              "      <td>0</td>\n",
              "      <td>0</td>\n",
              "      <td>0</td>\n",
              "      <td>0</td>\n",
              "      <td>0</td>\n",
              "      <td>0</td>\n",
              "      <td>0</td>\n",
              "      <td>...</td>\n",
              "      <td>0</td>\n",
              "      <td>0</td>\n",
              "      <td>0</td>\n",
              "      <td>0</td>\n",
              "      <td>0</td>\n",
              "      <td>0</td>\n",
              "      <td>0</td>\n",
              "      <td>0</td>\n",
              "      <td>0</td>\n",
              "      <td>0</td>\n",
              "      <td>0</td>\n",
              "      <td>0</td>\n",
              "      <td>0</td>\n",
              "      <td>1</td>\n",
              "      <td>0</td>\n",
              "      <td>0</td>\n",
              "      <td>0</td>\n",
              "      <td>0</td>\n",
              "      <td>0</td>\n",
              "      <td>0</td>\n",
              "      <td>0</td>\n",
              "      <td>0</td>\n",
              "      <td>0</td>\n",
              "      <td>0</td>\n",
              "      <td>0</td>\n",
              "      <td>0</td>\n",
              "      <td>0</td>\n",
              "      <td>0</td>\n",
              "      <td>0</td>\n",
              "      <td>0</td>\n",
              "      <td>0</td>\n",
              "      <td>0</td>\n",
              "      <td>0</td>\n",
              "      <td>0</td>\n",
              "      <td>0</td>\n",
              "      <td>0</td>\n",
              "      <td>0</td>\n",
              "      <td>0</td>\n",
              "      <td>0</td>\n",
              "      <td>0</td>\n",
              "    </tr>\n",
              "    <tr>\n",
              "      <th>4</th>\n",
              "      <td>8841186448183</td>\n",
              "      <td>56</td>\n",
              "      <td>0</td>\n",
              "      <td>1</td>\n",
              "      <td>1</td>\n",
              "      <td>0</td>\n",
              "      <td>0</td>\n",
              "      <td>0</td>\n",
              "      <td>0</td>\n",
              "      <td>0</td>\n",
              "      <td>4</td>\n",
              "      <td>16</td>\n",
              "      <td>4</td>\n",
              "      <td>0</td>\n",
              "      <td>0</td>\n",
              "      <td>0</td>\n",
              "      <td>0</td>\n",
              "      <td>0</td>\n",
              "      <td>0</td>\n",
              "      <td>0</td>\n",
              "      <td>0</td>\n",
              "      <td>0</td>\n",
              "      <td>0</td>\n",
              "      <td>0</td>\n",
              "      <td>0</td>\n",
              "      <td>0</td>\n",
              "      <td>0</td>\n",
              "      <td>0</td>\n",
              "      <td>0</td>\n",
              "      <td>0</td>\n",
              "      <td>0</td>\n",
              "      <td>0</td>\n",
              "      <td>0</td>\n",
              "      <td>0</td>\n",
              "      <td>0</td>\n",
              "      <td>0</td>\n",
              "      <td>0</td>\n",
              "      <td>0</td>\n",
              "      <td>0</td>\n",
              "      <td>0</td>\n",
              "      <td>...</td>\n",
              "      <td>0</td>\n",
              "      <td>0</td>\n",
              "      <td>0</td>\n",
              "      <td>0</td>\n",
              "      <td>0</td>\n",
              "      <td>0</td>\n",
              "      <td>0</td>\n",
              "      <td>0</td>\n",
              "      <td>0</td>\n",
              "      <td>0</td>\n",
              "      <td>0</td>\n",
              "      <td>0</td>\n",
              "      <td>0</td>\n",
              "      <td>0</td>\n",
              "      <td>0</td>\n",
              "      <td>0</td>\n",
              "      <td>0</td>\n",
              "      <td>0</td>\n",
              "      <td>0</td>\n",
              "      <td>0</td>\n",
              "      <td>0</td>\n",
              "      <td>0</td>\n",
              "      <td>0</td>\n",
              "      <td>0</td>\n",
              "      <td>0</td>\n",
              "      <td>0</td>\n",
              "      <td>0</td>\n",
              "      <td>0</td>\n",
              "      <td>0</td>\n",
              "      <td>0</td>\n",
              "      <td>0</td>\n",
              "      <td>0</td>\n",
              "      <td>0</td>\n",
              "      <td>0</td>\n",
              "      <td>0</td>\n",
              "      <td>0</td>\n",
              "      <td>0</td>\n",
              "      <td>0</td>\n",
              "      <td>0</td>\n",
              "      <td>0</td>\n",
              "    </tr>\n",
              "  </tbody>\n",
              "</table>\n",
              "<p>5 rows × 95 columns</p>\n",
              "</div>"
            ],
            "text/plain": [
              "         PatientId  Age  ...  Neighbourhood_UNIVERSITÁRIO  Neighbourhood_VILA RUBIM\n",
              "0   29872499824296   62  ...                            0                         0\n",
              "1  558997776694438   56  ...                            0                         0\n",
              "2    4262962299951   62  ...                            0                         0\n",
              "3     867951213174    8  ...                            0                         0\n",
              "4    8841186448183   56  ...                            0                         0\n",
              "\n",
              "[5 rows x 95 columns]"
            ]
          },
          "metadata": {},
          "execution_count": 41
        }
      ]
    },
    {
      "cell_type": "code",
      "metadata": {
        "id": "XHEUBMJ_lmD2"
      },
      "source": [
        "def randomForest_logisticRegression_PCA (data, autoencoder):\n",
        "\n",
        "  '''\n",
        "  This function apply RF and LR models, using PCA or Autoencoder to reduce dimensionality.\n",
        "  if 2nd param equals 1 AutoEncoder would applied.\n",
        "  else PCA would applied.\n",
        "  The function returns f1 score and ROC-AUC as results\n",
        "  '''\n",
        "\n",
        "  # Split the data into train, validation and test\n",
        "\n",
        "  target = data['No-show']\n",
        "  try:\n",
        "    features = data.drop(['No-show', 'Neighbourhood', 'ScheduledDay', 'AppointmentDay'], axis=1)\n",
        "  except:\n",
        "    features = data.drop(['No-show'], axis=1)\n",
        "\n",
        "  features_train_valid, features_test, target_train_valid, target_test = train_test_split(\n",
        "      features, target, test_size=0.20, random_state=state\n",
        "  )\n",
        "\n",
        "  features_train, features_valid, target_train, target_valid = train_test_split(\n",
        "      features_train_valid, target_train_valid, test_size=0.25, random_state=state\n",
        "  )\n",
        "\n",
        "  # PCA for dimensionality reduce\n",
        "  \n",
        "  if (autoencoder != 1):\n",
        "\n",
        "    pca = PCA(n_components=3)\n",
        "\n",
        "    features_train = pca.fit_transform(features_train)\n",
        "    features_valid = pca.transform(features_valid)\n",
        "\n",
        "    features_train_valid = pca.fit_transform(features_train_valid)\n",
        "    features_test = pca.transform(features_test)\n",
        "  \n",
        "  # apply standard scaler\n",
        "\n",
        "  scaler = StandardScaler()\n",
        "\n",
        "  scaler.fit(features_train)\n",
        "  features_train = scaler.transform(features_train)\n",
        "  features_valid = scaler.transform(features_valid)\n",
        "\n",
        "  scaler.fit(features_train_valid)\n",
        "  features_train_valid = scaler.transform(features_train_valid)\n",
        "  features_test = scaler.transform(features_test)\n",
        "\n",
        "  if (autoencoder == 1):\n",
        "\n",
        "    input_layer_all = Input(shape=(94, ))\n",
        "    encoded_all = Dense(5,activation='tanh')(input_layer_all)\n",
        "    decoded_all = Dense(94,activation='sigmoid')(encoded_all)\n",
        "    autoencoder_all = Model(input_layer_all, decoded_all)\n",
        "    autoencoder_all.compile(optimizer='adam',loss='mean_squared_error')\n",
        "    autoencoder_all.fit(features_train_valid, features_train_valid, epochs = 50,\n",
        "                        batch_size=1024,\n",
        "                        validation_data=(features_train_valid, features_train_valid))\n",
        "    encoder_all = Model(input_layer_all, encoded_all)\n",
        "    features_train_valid = encoder_all.predict(features_train_valid)\n",
        "    features_test = encoder_all.predict(features_test)\n",
        "    \n",
        "  # apply logistic regression model\n",
        "\n",
        "  model = LogisticRegression(random_state=state, solver='liblinear', class_weight='balanced')\n",
        "  model.fit(features_train_valid, target_train_valid)\n",
        "  predicted_test = model.predict(features_test)\n",
        "\n",
        "  logRegF1 = f1_score(target_test, predicted_test)\n",
        "  logRegAUC = roc_auc_score(target_test, model.predict_proba(features_test)[:,1])\n",
        "\n",
        "  # apply Random Forest model to tune hyperparameters\n",
        "\n",
        "  if (autoencoder != 1):\n",
        "    dict = {}\n",
        "    for depth in range(1, 16, 1):\n",
        "        model = RandomForestClassifier(n_estimators=20, max_depth=depth, random_state=state, class_weight='balanced')\n",
        "        model.fit(features_train, target_train)\n",
        "        predicted_valid = model.predict(features_valid)\n",
        "        f1 = f1_score(target_valid, predicted_valid)\n",
        "        dict[depth] = f1\n",
        "    optimal = max(dict, key=dict.get)\n",
        "    print(\"optimal max depth:\", optimal)\n",
        "  \n",
        "  else:\n",
        "    optimal = 10\n",
        "\n",
        "  # apply Random Forest model with optimized hyperparameters to predict test set values\n",
        "\n",
        "  print(\"Random forest with 100 estimators\")\n",
        "  print()\n",
        "  model = RandomForestClassifier(n_estimators=100, max_depth=optimal, random_state=state, class_weight='balanced')\n",
        "  model.fit(features_train_valid, target_train_valid)\n",
        "  predicted_test = model.predict(features_test)\n",
        "  randomForestF1 = f1_score(target_test, predicted_test)\n",
        "  randomForestAUC = roc_auc_score(target_test, model.predict_proba(features_test)[:,1])\n",
        "\n",
        "  data = {'F1_score':[logRegF1, randomForestF1],\n",
        "        'ROC-AUC':[logRegAUC, randomForestAUC]}\n",
        " \n",
        "  finalMatrix = pd.DataFrame(data, index =['LogisticRegression',\n",
        "                                'RandomForest']) \n",
        "  return finalMatrix"
      ],
      "execution_count": 42,
      "outputs": []
    },
    {
      "cell_type": "markdown",
      "metadata": {
        "id": "E7qUriqpCJ4y"
      },
      "source": [
        "![image.png](data:image/png;base64,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)"
      ]
    },
    {
      "cell_type": "code",
      "metadata": {
        "colab": {
          "base_uri": "https://localhost:8080/",
          "height": 164
        },
        "id": "A7kTPYyU5QBj",
        "outputId": "1dc6dc0b-8d11-4194-a518-69a413dbcfce"
      },
      "source": [
        "# run models using pca\n",
        "\n",
        "final_matrics = randomForest_logisticRegression_PCA (data_ohe, 0)\n",
        "final_matrics"
      ],
      "execution_count": 43,
      "outputs": [
        {
          "output_type": "stream",
          "name": "stdout",
          "text": [
            "optimal max depth: 10\n",
            "Random forest with 100 estimators\n",
            "\n"
          ]
        },
        {
          "output_type": "execute_result",
          "data": {
            "text/html": [
              "<div>\n",
              "<style scoped>\n",
              "    .dataframe tbody tr th:only-of-type {\n",
              "        vertical-align: middle;\n",
              "    }\n",
              "\n",
              "    .dataframe tbody tr th {\n",
              "        vertical-align: top;\n",
              "    }\n",
              "\n",
              "    .dataframe thead th {\n",
              "        text-align: right;\n",
              "    }\n",
              "</style>\n",
              "<table border=\"1\" class=\"dataframe\">\n",
              "  <thead>\n",
              "    <tr style=\"text-align: right;\">\n",
              "      <th></th>\n",
              "      <th>F1_score</th>\n",
              "      <th>ROC-AUC</th>\n",
              "    </tr>\n",
              "  </thead>\n",
              "  <tbody>\n",
              "    <tr>\n",
              "      <th>LogisticRegression</th>\n",
              "      <td>0.405982</td>\n",
              "      <td>0.675368</td>\n",
              "    </tr>\n",
              "    <tr>\n",
              "      <th>RandomForest</th>\n",
              "      <td>0.444979</td>\n",
              "      <td>0.732717</td>\n",
              "    </tr>\n",
              "  </tbody>\n",
              "</table>\n",
              "</div>"
            ],
            "text/plain": [
              "                    F1_score   ROC-AUC\n",
              "LogisticRegression  0.405982  0.675368\n",
              "RandomForest        0.444979  0.732717"
            ]
          },
          "metadata": {},
          "execution_count": 43
        }
      ]
    },
    {
      "cell_type": "code",
      "metadata": {
        "colab": {
          "base_uri": "https://localhost:8080/",
          "height": 1000
        },
        "id": "FP5D7orY7jDe",
        "outputId": "736d2b65-3684-4088-96f4-62df454f2ea5"
      },
      "source": [
        "# run models using AutoEncoder\n",
        "\n",
        "final_matrics = randomForest_logisticRegression_PCA (data_ohe, 1)\n",
        "final_matrics"
      ],
      "execution_count": 44,
      "outputs": [
        {
          "output_type": "stream",
          "name": "stdout",
          "text": [
            "Epoch 1/50\n",
            "87/87 [==============================] - 1s 7ms/step - loss: 1.2314 - val_loss: 1.2090\n",
            "Epoch 2/50\n",
            "87/87 [==============================] - 0s 5ms/step - loss: 1.1796 - val_loss: 1.1430\n",
            "Epoch 3/50\n",
            "87/87 [==============================] - 0s 5ms/step - loss: 1.1080 - val_loss: 1.0784\n",
            "Epoch 4/50\n",
            "87/87 [==============================] - 0s 5ms/step - loss: 1.0619 - val_loss: 1.0488\n",
            "Epoch 5/50\n",
            "87/87 [==============================] - 0s 5ms/step - loss: 1.0409 - val_loss: 1.0342\n",
            "Epoch 6/50\n",
            "87/87 [==============================] - 0s 5ms/step - loss: 1.0294 - val_loss: 1.0251\n",
            "Epoch 7/50\n",
            "87/87 [==============================] - 0s 5ms/step - loss: 1.0217 - val_loss: 1.0183\n",
            "Epoch 8/50\n",
            "87/87 [==============================] - 0s 5ms/step - loss: 1.0154 - val_loss: 1.0126\n",
            "Epoch 9/50\n",
            "87/87 [==============================] - 0s 5ms/step - loss: 1.0104 - val_loss: 1.0081\n",
            "Epoch 10/50\n",
            "87/87 [==============================] - 0s 5ms/step - loss: 1.0062 - val_loss: 1.0043\n",
            "Epoch 11/50\n",
            "87/87 [==============================] - 0s 5ms/step - loss: 1.0026 - val_loss: 1.0008\n",
            "Epoch 12/50\n",
            "87/87 [==============================] - 0s 5ms/step - loss: 0.9993 - val_loss: 0.9978\n",
            "Epoch 13/50\n",
            "87/87 [==============================] - 0s 5ms/step - loss: 0.9964 - val_loss: 0.9950\n",
            "Epoch 14/50\n",
            "87/87 [==============================] - 0s 5ms/step - loss: 0.9937 - val_loss: 0.9924\n",
            "Epoch 15/50\n",
            "87/87 [==============================] - 0s 5ms/step - loss: 0.9913 - val_loss: 0.9901\n",
            "Epoch 16/50\n",
            "87/87 [==============================] - 0s 5ms/step - loss: 0.9890 - val_loss: 0.9879\n",
            "Epoch 17/50\n",
            "87/87 [==============================] - 0s 5ms/step - loss: 0.9869 - val_loss: 0.9859\n",
            "Epoch 18/50\n",
            "87/87 [==============================] - 1s 6ms/step - loss: 0.9850 - val_loss: 0.9840\n",
            "Epoch 19/50\n",
            "87/87 [==============================] - 0s 5ms/step - loss: 0.9831 - val_loss: 0.9822\n",
            "Epoch 20/50\n",
            "87/87 [==============================] - 0s 6ms/step - loss: 0.9814 - val_loss: 0.9805\n",
            "Epoch 21/50\n",
            "87/87 [==============================] - 0s 5ms/step - loss: 0.9797 - val_loss: 0.9789\n",
            "Epoch 22/50\n",
            "87/87 [==============================] - 0s 6ms/step - loss: 0.9782 - val_loss: 0.9774\n",
            "Epoch 23/50\n",
            "87/87 [==============================] - 0s 5ms/step - loss: 0.9766 - val_loss: 0.9759\n",
            "Epoch 24/50\n",
            "87/87 [==============================] - 0s 5ms/step - loss: 0.9752 - val_loss: 0.9745\n",
            "Epoch 25/50\n",
            "87/87 [==============================] - 0s 5ms/step - loss: 0.9738 - val_loss: 0.9731\n",
            "Epoch 26/50\n",
            "87/87 [==============================] - 1s 6ms/step - loss: 0.9724 - val_loss: 0.9718\n",
            "Epoch 27/50\n",
            "87/87 [==============================] - 0s 6ms/step - loss: 0.9711 - val_loss: 0.9705\n",
            "Epoch 28/50\n",
            "87/87 [==============================] - 0s 5ms/step - loss: 0.9698 - val_loss: 0.9692\n",
            "Epoch 29/50\n",
            "87/87 [==============================] - 0s 5ms/step - loss: 0.9686 - val_loss: 0.9679\n",
            "Epoch 30/50\n",
            "87/87 [==============================] - 0s 5ms/step - loss: 0.9673 - val_loss: 0.9667\n",
            "Epoch 31/50\n",
            "87/87 [==============================] - 0s 5ms/step - loss: 0.9661 - val_loss: 0.9655\n",
            "Epoch 32/50\n",
            "87/87 [==============================] - 0s 5ms/step - loss: 0.9650 - val_loss: 0.9644\n",
            "Epoch 33/50\n",
            "87/87 [==============================] - 0s 5ms/step - loss: 0.9638 - val_loss: 0.9632\n",
            "Epoch 34/50\n",
            "87/87 [==============================] - 0s 5ms/step - loss: 0.9627 - val_loss: 0.9621\n",
            "Epoch 35/50\n",
            "87/87 [==============================] - 0s 5ms/step - loss: 0.9615 - val_loss: 0.9610\n",
            "Epoch 36/50\n",
            "87/87 [==============================] - 0s 5ms/step - loss: 0.9604 - val_loss: 0.9599\n",
            "Epoch 37/50\n",
            "87/87 [==============================] - 0s 5ms/step - loss: 0.9594 - val_loss: 0.9588\n",
            "Epoch 38/50\n",
            "87/87 [==============================] - 0s 5ms/step - loss: 0.9583 - val_loss: 0.9577\n",
            "Epoch 39/50\n",
            "87/87 [==============================] - 0s 5ms/step - loss: 0.9571 - val_loss: 0.9565\n",
            "Epoch 40/50\n",
            "87/87 [==============================] - 0s 5ms/step - loss: 0.9559 - val_loss: 0.9553\n",
            "Epoch 41/50\n",
            "87/87 [==============================] - 0s 5ms/step - loss: 0.9548 - val_loss: 0.9542\n",
            "Epoch 42/50\n",
            "87/87 [==============================] - 0s 5ms/step - loss: 0.9537 - val_loss: 0.9532\n",
            "Epoch 43/50\n",
            "87/87 [==============================] - 0s 5ms/step - loss: 0.9526 - val_loss: 0.9520\n",
            "Epoch 44/50\n",
            "87/87 [==============================] - 0s 5ms/step - loss: 0.9514 - val_loss: 0.9508\n",
            "Epoch 45/50\n",
            "87/87 [==============================] - 0s 5ms/step - loss: 0.9501 - val_loss: 0.9493\n",
            "Epoch 46/50\n",
            "87/87 [==============================] - 0s 6ms/step - loss: 0.9486 - val_loss: 0.9478\n",
            "Epoch 47/50\n",
            "87/87 [==============================] - 0s 5ms/step - loss: 0.9471 - val_loss: 0.9463\n",
            "Epoch 48/50\n",
            "87/87 [==============================] - 0s 5ms/step - loss: 0.9456 - val_loss: 0.9449\n",
            "Epoch 49/50\n",
            "87/87 [==============================] - 0s 5ms/step - loss: 0.9443 - val_loss: 0.9436\n",
            "Epoch 50/50\n",
            "87/87 [==============================] - 0s 5ms/step - loss: 0.9431 - val_loss: 0.9425\n",
            "Random forest with 100 estimators\n",
            "\n"
          ]
        },
        {
          "output_type": "execute_result",
          "data": {
            "text/html": [
              "<div>\n",
              "<style scoped>\n",
              "    .dataframe tbody tr th:only-of-type {\n",
              "        vertical-align: middle;\n",
              "    }\n",
              "\n",
              "    .dataframe tbody tr th {\n",
              "        vertical-align: top;\n",
              "    }\n",
              "\n",
              "    .dataframe thead th {\n",
              "        text-align: right;\n",
              "    }\n",
              "</style>\n",
              "<table border=\"1\" class=\"dataframe\">\n",
              "  <thead>\n",
              "    <tr style=\"text-align: right;\">\n",
              "      <th></th>\n",
              "      <th>F1_score</th>\n",
              "      <th>ROC-AUC</th>\n",
              "    </tr>\n",
              "  </thead>\n",
              "  <tbody>\n",
              "    <tr>\n",
              "      <th>LogisticRegression</th>\n",
              "      <td>0.299041</td>\n",
              "      <td>0.524167</td>\n",
              "    </tr>\n",
              "    <tr>\n",
              "      <th>RandomForest</th>\n",
              "      <td>0.357847</td>\n",
              "      <td>0.625441</td>\n",
              "    </tr>\n",
              "  </tbody>\n",
              "</table>\n",
              "</div>"
            ],
            "text/plain": [
              "                    F1_score   ROC-AUC\n",
              "LogisticRegression  0.299041  0.524167\n",
              "RandomForest        0.357847  0.625441"
            ]
          },
          "metadata": {},
          "execution_count": 44
        }
      ]
    },
    {
      "cell_type": "markdown",
      "metadata": {
        "id": "uKJGNzu4X_zb"
      },
      "source": [
        "To sum up till now: Using OHE do not improve the results not with PCA and not with AutoEncoder. Lets move to do some additional feature engineering."
      ]
    },
    {
      "cell_type": "markdown",
      "metadata": {
        "id": "vGgIp2YzZIh7"
      },
      "source": [
        "### PatientId and Neighbourhood features engineering"
      ]
    },
    {
      "cell_type": "code",
      "metadata": {
        "id": "lNRj8xvNZ47j"
      },
      "source": [
        "# create new feature using training set only - replace patient id with the number of appointments scheduled\n",
        "\n",
        "train_valid, test = train_test_split(\n",
        "    data_filt, test_size=0.2, random_state=state\n",
        ")\n",
        "\n",
        "train, valid = train_test_split(\n",
        "    train_valid, test_size=0.25, random_state=state\n",
        ")\n",
        "\n",
        "pivot = train.pivot_table(index='PatientId', values='No-show', aggfunc=['count', 'sum'])\n",
        "pivot.columns = ['total', 'no_show']\n",
        "pivot['perc'] = pivot['no_show']/pivot['total']\n",
        "dict = pd.Series(pivot.perc.values,index=pivot.index).to_dict()"
      ],
      "execution_count": 45,
      "outputs": []
    },
    {
      "cell_type": "code",
      "metadata": {
        "colab": {
          "base_uri": "https://localhost:8080/",
          "height": 237
        },
        "id": "q8pEjwPTaAn0",
        "outputId": "5d6af411-5910-4830-c546-d738842edc11"
      },
      "source": [
        "pivot.sample(5)"
      ],
      "execution_count": 46,
      "outputs": [
        {
          "output_type": "execute_result",
          "data": {
            "text/html": [
              "<div>\n",
              "<style scoped>\n",
              "    .dataframe tbody tr th:only-of-type {\n",
              "        vertical-align: middle;\n",
              "    }\n",
              "\n",
              "    .dataframe tbody tr th {\n",
              "        vertical-align: top;\n",
              "    }\n",
              "\n",
              "    .dataframe thead th {\n",
              "        text-align: right;\n",
              "    }\n",
              "</style>\n",
              "<table border=\"1\" class=\"dataframe\">\n",
              "  <thead>\n",
              "    <tr style=\"text-align: right;\">\n",
              "      <th></th>\n",
              "      <th>total</th>\n",
              "      <th>no_show</th>\n",
              "      <th>perc</th>\n",
              "    </tr>\n",
              "    <tr>\n",
              "      <th>PatientId</th>\n",
              "      <th></th>\n",
              "      <th></th>\n",
              "      <th></th>\n",
              "    </tr>\n",
              "  </thead>\n",
              "  <tbody>\n",
              "    <tr>\n",
              "      <th>1721719343133</th>\n",
              "      <td>2</td>\n",
              "      <td>0</td>\n",
              "      <td>0.0</td>\n",
              "    </tr>\n",
              "    <tr>\n",
              "      <th>597645952357838</th>\n",
              "      <td>1</td>\n",
              "      <td>0</td>\n",
              "      <td>0.0</td>\n",
              "    </tr>\n",
              "    <tr>\n",
              "      <th>6959997628533</th>\n",
              "      <td>1</td>\n",
              "      <td>0</td>\n",
              "      <td>0.0</td>\n",
              "    </tr>\n",
              "    <tr>\n",
              "      <th>8575234528948</th>\n",
              "      <td>2</td>\n",
              "      <td>1</td>\n",
              "      <td>0.5</td>\n",
              "    </tr>\n",
              "    <tr>\n",
              "      <th>86469675331133</th>\n",
              "      <td>1</td>\n",
              "      <td>0</td>\n",
              "      <td>0.0</td>\n",
              "    </tr>\n",
              "  </tbody>\n",
              "</table>\n",
              "</div>"
            ],
            "text/plain": [
              "                 total  no_show  perc\n",
              "PatientId                            \n",
              "1721719343133        2        0   0.0\n",
              "597645952357838      1        0   0.0\n",
              "6959997628533        1        0   0.0\n",
              "8575234528948        2        1   0.5\n",
              "86469675331133       1        0   0.0"
            ]
          },
          "metadata": {},
          "execution_count": 46
        }
      ]
    },
    {
      "cell_type": "code",
      "metadata": {
        "id": "fbMKJ5z1sfJr"
      },
      "source": [
        "data_filt = data_filt.replace({\"PatientId\": dict})"
      ],
      "execution_count": 47,
      "outputs": []
    },
    {
      "cell_type": "code",
      "metadata": {
        "id": "s9kFaXTbslIE"
      },
      "source": [
        "# if patient id not in train set replace it with mean of no-show in the dataset\n",
        "\n",
        "def PatientId_toMean (row):\n",
        "\n",
        "  if (row > 1):\n",
        "    row = 0.2\n",
        "  return row"
      ],
      "execution_count": 48,
      "outputs": []
    },
    {
      "cell_type": "code",
      "metadata": {
        "colab": {
          "base_uri": "https://localhost:8080/",
          "height": 261
        },
        "id": "txkY_HrDs0LQ",
        "outputId": "eff290d0-4e3d-43e0-9eab-84338ce44a1f"
      },
      "source": [
        "data_filt['PatientId'] = data_filt['PatientId'].apply(PatientId_toMean)\n",
        "data_filt.sample(5)"
      ],
      "execution_count": 49,
      "outputs": [
        {
          "output_type": "execute_result",
          "data": {
            "text/html": [
              "<div>\n",
              "<style scoped>\n",
              "    .dataframe tbody tr th:only-of-type {\n",
              "        vertical-align: middle;\n",
              "    }\n",
              "\n",
              "    .dataframe tbody tr th {\n",
              "        vertical-align: top;\n",
              "    }\n",
              "\n",
              "    .dataframe thead th {\n",
              "        text-align: right;\n",
              "    }\n",
              "</style>\n",
              "<table border=\"1\" class=\"dataframe\">\n",
              "  <thead>\n",
              "    <tr style=\"text-align: right;\">\n",
              "      <th></th>\n",
              "      <th>PatientId</th>\n",
              "      <th>ScheduledDay</th>\n",
              "      <th>AppointmentDay</th>\n",
              "      <th>Age</th>\n",
              "      <th>Neighbourhood</th>\n",
              "      <th>Scholarship</th>\n",
              "      <th>Hipertension</th>\n",
              "      <th>Diabetes</th>\n",
              "      <th>Alcoholism</th>\n",
              "      <th>Handcap</th>\n",
              "      <th>SMS_received</th>\n",
              "      <th>No-show</th>\n",
              "      <th>Is_male</th>\n",
              "      <th>AppointmentWOD</th>\n",
              "      <th>ScheduledHour</th>\n",
              "      <th>ScheduledWOD</th>\n",
              "      <th>day_diff</th>\n",
              "    </tr>\n",
              "  </thead>\n",
              "  <tbody>\n",
              "    <tr>\n",
              "      <th>58961</th>\n",
              "      <td>0.0</td>\n",
              "      <td>2016-05-20</td>\n",
              "      <td>2016-05-24</td>\n",
              "      <td>58</td>\n",
              "      <td>SÃO PEDRO</td>\n",
              "      <td>0</td>\n",
              "      <td>1</td>\n",
              "      <td>0</td>\n",
              "      <td>0</td>\n",
              "      <td>0</td>\n",
              "      <td>1</td>\n",
              "      <td>0</td>\n",
              "      <td>1</td>\n",
              "      <td>1</td>\n",
              "      <td>10</td>\n",
              "      <td>4</td>\n",
              "      <td>4</td>\n",
              "    </tr>\n",
              "    <tr>\n",
              "      <th>66674</th>\n",
              "      <td>0.0</td>\n",
              "      <td>2016-05-03</td>\n",
              "      <td>2016-05-03</td>\n",
              "      <td>32</td>\n",
              "      <td>JARDIM CAMBURI</td>\n",
              "      <td>0</td>\n",
              "      <td>0</td>\n",
              "      <td>0</td>\n",
              "      <td>0</td>\n",
              "      <td>0</td>\n",
              "      <td>0</td>\n",
              "      <td>0</td>\n",
              "      <td>0</td>\n",
              "      <td>1</td>\n",
              "      <td>9</td>\n",
              "      <td>1</td>\n",
              "      <td>0</td>\n",
              "    </tr>\n",
              "    <tr>\n",
              "      <th>57017</th>\n",
              "      <td>0.0</td>\n",
              "      <td>2016-05-03</td>\n",
              "      <td>2016-05-16</td>\n",
              "      <td>73</td>\n",
              "      <td>ILHA DO BOI</td>\n",
              "      <td>0</td>\n",
              "      <td>0</td>\n",
              "      <td>0</td>\n",
              "      <td>0</td>\n",
              "      <td>0</td>\n",
              "      <td>0</td>\n",
              "      <td>0</td>\n",
              "      <td>1</td>\n",
              "      <td>0</td>\n",
              "      <td>9</td>\n",
              "      <td>1</td>\n",
              "      <td>13</td>\n",
              "    </tr>\n",
              "    <tr>\n",
              "      <th>64243</th>\n",
              "      <td>0.5</td>\n",
              "      <td>2016-05-03</td>\n",
              "      <td>2016-05-17</td>\n",
              "      <td>20</td>\n",
              "      <td>CONSOLAÇÃO</td>\n",
              "      <td>0</td>\n",
              "      <td>0</td>\n",
              "      <td>0</td>\n",
              "      <td>0</td>\n",
              "      <td>0</td>\n",
              "      <td>0</td>\n",
              "      <td>1</td>\n",
              "      <td>0</td>\n",
              "      <td>1</td>\n",
              "      <td>7</td>\n",
              "      <td>1</td>\n",
              "      <td>14</td>\n",
              "    </tr>\n",
              "    <tr>\n",
              "      <th>68725</th>\n",
              "      <td>0.2</td>\n",
              "      <td>2016-04-29</td>\n",
              "      <td>2016-05-05</td>\n",
              "      <td>47</td>\n",
              "      <td>ESTRELINHA</td>\n",
              "      <td>1</td>\n",
              "      <td>0</td>\n",
              "      <td>0</td>\n",
              "      <td>0</td>\n",
              "      <td>0</td>\n",
              "      <td>1</td>\n",
              "      <td>0</td>\n",
              "      <td>0</td>\n",
              "      <td>3</td>\n",
              "      <td>15</td>\n",
              "      <td>4</td>\n",
              "      <td>6</td>\n",
              "    </tr>\n",
              "  </tbody>\n",
              "</table>\n",
              "</div>"
            ],
            "text/plain": [
              "       PatientId ScheduledDay  ... ScheduledWOD  day_diff\n",
              "58961        0.0   2016-05-20  ...            4         4\n",
              "66674        0.0   2016-05-03  ...            1         0\n",
              "57017        0.0   2016-05-03  ...            1        13\n",
              "64243        0.5   2016-05-03  ...            1        14\n",
              "68725        0.2   2016-04-29  ...            4         6\n",
              "\n",
              "[5 rows x 17 columns]"
            ]
          },
          "metadata": {},
          "execution_count": 49
        }
      ]
    },
    {
      "cell_type": "markdown",
      "metadata": {
        "id": "Dg7HT5tftUbG"
      },
      "source": [
        "Now lets check the correlation between the new feature and no-show "
      ]
    },
    {
      "cell_type": "code",
      "metadata": {
        "colab": {
          "base_uri": "https://localhost:8080/",
          "height": 217
        },
        "id": "ChRke-1RtK7U",
        "outputId": "e98348e3-be59-4a8b-c325-a5fa43d5ddff"
      },
      "source": [
        "sns.set_theme(style=\"white\")\n",
        "\n",
        "corr = data_filt[['PatientId', 'No-show']].corr()  # Create the pearson correlation metrix object\n",
        "\n",
        "fig, ax = plt.subplots(figsize=(3,3)) # create the figure\n",
        "\n",
        "sns.heatmap(corr, annot=True, cmap='Greens', annot_kws={'rotation':45}) # Draw the heatmap\n",
        "\n",
        "plt.show()"
      ],
      "execution_count": 50,
      "outputs": [
        {
          "output_type": "display_data",
          "data": {
            "image/png": "[encoded data removed]",
            "text/plain": [
              "<Figure size 216x216 with 2 Axes>"
            ]
          },
          "metadata": {}
        }
      ]
    },
    {
      "cell_type": "markdown",
      "metadata": {
        "id": "zlBC4WTutfAv"
      },
      "source": [
        "Looks good. Now lets run again the models"
      ]
    },
    {
      "cell_type": "code",
      "metadata": {
        "colab": {
          "base_uri": "https://localhost:8080/",
          "height": 164
        },
        "id": "CHlEuHu3teBo",
        "outputId": "1dc5b9f1-ef28-40aa-8a29-dc202f09014f"
      },
      "source": [
        "result = randomForest_logisticRegression (data_filt)\n",
        "result[0]"
      ],
      "execution_count": 51,
      "outputs": [
        {
          "output_type": "stream",
          "name": "stdout",
          "text": [
            "optimal max depth: 10\n",
            "Random forest with 100 estimators\n",
            "\n"
          ]
        },
        {
          "output_type": "execute_result",
          "data": {
            "text/html": [
              "<div>\n",
              "<style scoped>\n",
              "    .dataframe tbody tr th:only-of-type {\n",
              "        vertical-align: middle;\n",
              "    }\n",
              "\n",
              "    .dataframe tbody tr th {\n",
              "        vertical-align: top;\n",
              "    }\n",
              "\n",
              "    .dataframe thead th {\n",
              "        text-align: right;\n",
              "    }\n",
              "</style>\n",
              "<table border=\"1\" class=\"dataframe\">\n",
              "  <thead>\n",
              "    <tr style=\"text-align: right;\">\n",
              "      <th></th>\n",
              "      <th>F1_score</th>\n",
              "      <th>ROC-AUC</th>\n",
              "    </tr>\n",
              "  </thead>\n",
              "  <tbody>\n",
              "    <tr>\n",
              "      <th>LogisticRegression</th>\n",
              "      <td>0.315874</td>\n",
              "      <td>0.633041</td>\n",
              "    </tr>\n",
              "    <tr>\n",
              "      <th>RandomForest</th>\n",
              "      <td>0.419804</td>\n",
              "      <td>0.709785</td>\n",
              "    </tr>\n",
              "  </tbody>\n",
              "</table>\n",
              "</div>"
            ],
            "text/plain": [
              "                    F1_score   ROC-AUC\n",
              "LogisticRegression  0.315874  0.633041\n",
              "RandomForest        0.419804  0.709785"
            ]
          },
          "metadata": {},
          "execution_count": 51
        }
      ]
    },
    {
      "cell_type": "markdown",
      "metadata": {
        "id": "x_9YL1Dtt8Ta"
      },
      "source": [
        "Results do not improve at all. Lets add feature engineering of Neighbourhood. I will add relation of arrive and not arrive per neighbourhood as a feature. In order to avoid data leakage I will use train set only to create the no_show rates."
      ]
    },
    {
      "cell_type": "code",
      "metadata": {
        "id": "KitlqPqW3HZ2",
        "colab": {
          "base_uri": "https://localhost:8080/",
          "height": 455
        },
        "outputId": "a1f5f46e-39b7-46d9-e9ae-ee27a549bbef"
      },
      "source": [
        "data_filt['Neighbourhoods_show'] = data_filt['Neighbourhood']\n",
        "\n",
        "train_valid, test = train_test_split(\n",
        "    data_filt, test_size=0.2, random_state=state\n",
        ")\n",
        "\n",
        "train, valid = train_test_split(\n",
        "    train_valid, test_size=0.25, random_state=state\n",
        ")\n",
        "\n",
        "pivot = train.pivot_table(index = 'Neighbourhood', columns='No-show' , values='Age', aggfunc='count')\n",
        "pivot.columns = [\"arrived\", \"not_arrived\"]\n",
        "pivot['relation'] = pivot['not_arrived']/pivot['arrived']\n",
        "pivot"
      ],
      "execution_count": 52,
      "outputs": [
        {
          "output_type": "execute_result",
          "data": {
            "text/html": [
              "<div>\n",
              "<style scoped>\n",
              "    .dataframe tbody tr th:only-of-type {\n",
              "        vertical-align: middle;\n",
              "    }\n",
              "\n",
              "    .dataframe tbody tr th {\n",
              "        vertical-align: top;\n",
              "    }\n",
              "\n",
              "    .dataframe thead th {\n",
              "        text-align: right;\n",
              "    }\n",
              "</style>\n",
              "<table border=\"1\" class=\"dataframe\">\n",
              "  <thead>\n",
              "    <tr style=\"text-align: right;\">\n",
              "      <th></th>\n",
              "      <th>arrived</th>\n",
              "      <th>not_arrived</th>\n",
              "      <th>relation</th>\n",
              "    </tr>\n",
              "    <tr>\n",
              "      <th>Neighbourhood</th>\n",
              "      <th></th>\n",
              "      <th></th>\n",
              "      <th></th>\n",
              "    </tr>\n",
              "  </thead>\n",
              "  <tbody>\n",
              "    <tr>\n",
              "      <th>AEROPORTO</th>\n",
              "      <td>5.0</td>\n",
              "      <td>1.0</td>\n",
              "      <td>0.200000</td>\n",
              "    </tr>\n",
              "    <tr>\n",
              "      <th>ANDORINHAS</th>\n",
              "      <td>1030.0</td>\n",
              "      <td>317.0</td>\n",
              "      <td>0.307767</td>\n",
              "    </tr>\n",
              "    <tr>\n",
              "      <th>ANTÔNIO HONÓRIO</th>\n",
              "      <td>118.0</td>\n",
              "      <td>29.0</td>\n",
              "      <td>0.245763</td>\n",
              "    </tr>\n",
              "    <tr>\n",
              "      <th>ARIOVALDO FAVALESSA</th>\n",
              "      <td>139.0</td>\n",
              "      <td>37.0</td>\n",
              "      <td>0.266187</td>\n",
              "    </tr>\n",
              "    <tr>\n",
              "      <th>BARRO VERMELHO</th>\n",
              "      <td>197.0</td>\n",
              "      <td>57.0</td>\n",
              "      <td>0.289340</td>\n",
              "    </tr>\n",
              "    <tr>\n",
              "      <th>...</th>\n",
              "      <td>...</td>\n",
              "      <td>...</td>\n",
              "      <td>...</td>\n",
              "    </tr>\n",
              "    <tr>\n",
              "      <th>SÃO JOSÉ</th>\n",
              "      <td>922.0</td>\n",
              "      <td>245.0</td>\n",
              "      <td>0.265727</td>\n",
              "    </tr>\n",
              "    <tr>\n",
              "      <th>SÃO PEDRO</th>\n",
              "      <td>1196.0</td>\n",
              "      <td>303.0</td>\n",
              "      <td>0.253344</td>\n",
              "    </tr>\n",
              "    <tr>\n",
              "      <th>TABUAZEIRO</th>\n",
              "      <td>1536.0</td>\n",
              "      <td>340.0</td>\n",
              "      <td>0.221354</td>\n",
              "    </tr>\n",
              "    <tr>\n",
              "      <th>UNIVERSITÁRIO</th>\n",
              "      <td>75.0</td>\n",
              "      <td>18.0</td>\n",
              "      <td>0.240000</td>\n",
              "    </tr>\n",
              "    <tr>\n",
              "      <th>VILA RUBIM</th>\n",
              "      <td>411.0</td>\n",
              "      <td>88.0</td>\n",
              "      <td>0.214112</td>\n",
              "    </tr>\n",
              "  </tbody>\n",
              "</table>\n",
              "<p>80 rows × 3 columns</p>\n",
              "</div>"
            ],
            "text/plain": [
              "                     arrived  not_arrived  relation\n",
              "Neighbourhood                                      \n",
              "AEROPORTO                5.0          1.0  0.200000\n",
              "ANDORINHAS            1030.0        317.0  0.307767\n",
              "ANTÔNIO HONÓRIO        118.0         29.0  0.245763\n",
              "ARIOVALDO FAVALESSA    139.0         37.0  0.266187\n",
              "BARRO VERMELHO         197.0         57.0  0.289340\n",
              "...                      ...          ...       ...\n",
              "SÃO JOSÉ               922.0        245.0  0.265727\n",
              "SÃO PEDRO             1196.0        303.0  0.253344\n",
              "TABUAZEIRO            1536.0        340.0  0.221354\n",
              "UNIVERSITÁRIO           75.0         18.0  0.240000\n",
              "VILA RUBIM             411.0         88.0  0.214112\n",
              "\n",
              "[80 rows x 3 columns]"
            ]
          },
          "metadata": {},
          "execution_count": 52
        }
      ]
    },
    {
      "cell_type": "code",
      "metadata": {
        "id": "5683K6GRvSB8"
      },
      "source": [
        "# replace null values with 0 - there is not no-show in this neighbourhood\n",
        "\n",
        "pivot = pivot.fillna(0)"
      ],
      "execution_count": 53,
      "outputs": []
    },
    {
      "cell_type": "code",
      "metadata": {
        "colab": {
          "base_uri": "https://localhost:8080/",
          "height": 365
        },
        "id": "dRK6A4KWwA5t",
        "outputId": "2f8766b4-2ecb-4752-e16d-e7963672b58b"
      },
      "source": [
        "fig, axs = plt.subplots(1,2, figsize = (10,5))\n",
        "sns.boxplot(data=pivot, y='relation', ax=axs[0])\n",
        "sns.violinplot(data=pivot, y='relation', ax=axs[1])\n",
        "plt.title(\"Distribution of relation of no-show patients per neighborhood\", loc='right')\n",
        "fig.tight_layout(w_pad=3)\n",
        "plt.show()"
      ],
      "execution_count": 54,
      "outputs": [
        {
          "output_type": "display_data",
          "data": {
            "image/png": "[encoded data removed]",
            "text/plain": [
              "<Figure size 720x360 with 2 Axes>"
            ]
          },
          "metadata": {}
        }
      ]
    },
    {
      "cell_type": "markdown",
      "metadata": {
        "id": "zwXfdEUVwH4g"
      },
      "source": [
        "As expected, our plots are bit different comparing to the above plots, since they represent relation of train set only. Now lets create the new dictionary and insert the values to Neighbourhoods_show"
      ]
    },
    {
      "cell_type": "code",
      "metadata": {
        "id": "5KyceOmTxPGC"
      },
      "source": [
        "dict = pd.Series(pivot.relation.values,index=pivot.index).to_dict()"
      ],
      "execution_count": 55,
      "outputs": []
    },
    {
      "cell_type": "code",
      "metadata": {
        "id": "vZ-YCpuju43R"
      },
      "source": [
        "data_new = data_filt.replace({\"Neighbourhoods_show\": dict})"
      ],
      "execution_count": 56,
      "outputs": []
    },
    {
      "cell_type": "code",
      "metadata": {
        "colab": {
          "base_uri": "https://localhost:8080/",
          "height": 330
        },
        "id": "7j6JAV_NwER8",
        "outputId": "e6f6b21f-30de-4c30-a601-5b8f66ed4e78"
      },
      "source": [
        "data_new.head()"
      ],
      "execution_count": 57,
      "outputs": [
        {
          "output_type": "execute_result",
          "data": {
            "text/html": [
              "<div>\n",
              "<style scoped>\n",
              "    .dataframe tbody tr th:only-of-type {\n",
              "        vertical-align: middle;\n",
              "    }\n",
              "\n",
              "    .dataframe tbody tr th {\n",
              "        vertical-align: top;\n",
              "    }\n",
              "\n",
              "    .dataframe thead th {\n",
              "        text-align: right;\n",
              "    }\n",
              "</style>\n",
              "<table border=\"1\" class=\"dataframe\">\n",
              "  <thead>\n",
              "    <tr style=\"text-align: right;\">\n",
              "      <th></th>\n",
              "      <th>PatientId</th>\n",
              "      <th>ScheduledDay</th>\n",
              "      <th>AppointmentDay</th>\n",
              "      <th>Age</th>\n",
              "      <th>Neighbourhood</th>\n",
              "      <th>Scholarship</th>\n",
              "      <th>Hipertension</th>\n",
              "      <th>Diabetes</th>\n",
              "      <th>Alcoholism</th>\n",
              "      <th>Handcap</th>\n",
              "      <th>SMS_received</th>\n",
              "      <th>No-show</th>\n",
              "      <th>Is_male</th>\n",
              "      <th>AppointmentWOD</th>\n",
              "      <th>ScheduledHour</th>\n",
              "      <th>ScheduledWOD</th>\n",
              "      <th>day_diff</th>\n",
              "      <th>Neighbourhoods_show</th>\n",
              "    </tr>\n",
              "  </thead>\n",
              "  <tbody>\n",
              "    <tr>\n",
              "      <th>0</th>\n",
              "      <td>0.0</td>\n",
              "      <td>2016-04-29</td>\n",
              "      <td>2016-04-29</td>\n",
              "      <td>62</td>\n",
              "      <td>JARDIM DA PENHA</td>\n",
              "      <td>0</td>\n",
              "      <td>1</td>\n",
              "      <td>0</td>\n",
              "      <td>0</td>\n",
              "      <td>0</td>\n",
              "      <td>0</td>\n",
              "      <td>0</td>\n",
              "      <td>0</td>\n",
              "      <td>4</td>\n",
              "      <td>18</td>\n",
              "      <td>4</td>\n",
              "      <td>0</td>\n",
              "      <td>0.194077</td>\n",
              "    </tr>\n",
              "    <tr>\n",
              "      <th>1</th>\n",
              "      <td>0.0</td>\n",
              "      <td>2016-04-29</td>\n",
              "      <td>2016-04-29</td>\n",
              "      <td>56</td>\n",
              "      <td>JARDIM DA PENHA</td>\n",
              "      <td>0</td>\n",
              "      <td>0</td>\n",
              "      <td>0</td>\n",
              "      <td>0</td>\n",
              "      <td>0</td>\n",
              "      <td>0</td>\n",
              "      <td>0</td>\n",
              "      <td>1</td>\n",
              "      <td>4</td>\n",
              "      <td>16</td>\n",
              "      <td>4</td>\n",
              "      <td>0</td>\n",
              "      <td>0.194077</td>\n",
              "    </tr>\n",
              "    <tr>\n",
              "      <th>2</th>\n",
              "      <td>0.2</td>\n",
              "      <td>2016-04-29</td>\n",
              "      <td>2016-04-29</td>\n",
              "      <td>62</td>\n",
              "      <td>MATA DA PRAIA</td>\n",
              "      <td>0</td>\n",
              "      <td>0</td>\n",
              "      <td>0</td>\n",
              "      <td>0</td>\n",
              "      <td>0</td>\n",
              "      <td>0</td>\n",
              "      <td>0</td>\n",
              "      <td>0</td>\n",
              "      <td>4</td>\n",
              "      <td>16</td>\n",
              "      <td>4</td>\n",
              "      <td>0</td>\n",
              "      <td>0.211039</td>\n",
              "    </tr>\n",
              "    <tr>\n",
              "      <th>3</th>\n",
              "      <td>0.5</td>\n",
              "      <td>2016-04-29</td>\n",
              "      <td>2016-04-29</td>\n",
              "      <td>8</td>\n",
              "      <td>PONTAL DE CAMBURI</td>\n",
              "      <td>0</td>\n",
              "      <td>0</td>\n",
              "      <td>0</td>\n",
              "      <td>0</td>\n",
              "      <td>0</td>\n",
              "      <td>0</td>\n",
              "      <td>0</td>\n",
              "      <td>0</td>\n",
              "      <td>4</td>\n",
              "      <td>17</td>\n",
              "      <td>4</td>\n",
              "      <td>0</td>\n",
              "      <td>0.230769</td>\n",
              "    </tr>\n",
              "    <tr>\n",
              "      <th>4</th>\n",
              "      <td>0.0</td>\n",
              "      <td>2016-04-29</td>\n",
              "      <td>2016-04-29</td>\n",
              "      <td>56</td>\n",
              "      <td>JARDIM DA PENHA</td>\n",
              "      <td>0</td>\n",
              "      <td>1</td>\n",
              "      <td>1</td>\n",
              "      <td>0</td>\n",
              "      <td>0</td>\n",
              "      <td>0</td>\n",
              "      <td>0</td>\n",
              "      <td>0</td>\n",
              "      <td>4</td>\n",
              "      <td>16</td>\n",
              "      <td>4</td>\n",
              "      <td>0</td>\n",
              "      <td>0.194077</td>\n",
              "    </tr>\n",
              "  </tbody>\n",
              "</table>\n",
              "</div>"
            ],
            "text/plain": [
              "   PatientId ScheduledDay  ... day_diff  Neighbourhoods_show\n",
              "0        0.0   2016-04-29  ...        0             0.194077\n",
              "1        0.0   2016-04-29  ...        0             0.194077\n",
              "2        0.2   2016-04-29  ...        0             0.211039\n",
              "3        0.5   2016-04-29  ...        0             0.230769\n",
              "4        0.0   2016-04-29  ...        0             0.194077\n",
              "\n",
              "[5 rows x 18 columns]"
            ]
          },
          "metadata": {},
          "execution_count": 57
        }
      ]
    },
    {
      "cell_type": "code",
      "metadata": {
        "colab": {
          "base_uri": "https://localhost:8080/",
          "height": 547
        },
        "id": "erbeRx1_xtjR",
        "outputId": "5f33c451-cbca-4e2e-a257-d237d0dc110a"
      },
      "source": [
        "# replace strings to numeric, if the neighbourhood not in the train, fill with the mean\n",
        "\n",
        "data_new['Neighbourhoods_show'] = pd.to_numeric(data_new['Neighbourhoods_show'], errors='coerce')\n",
        "data_new.fillna(0.25)\n",
        "# data_new = data_new.dropna()"
      ],
      "execution_count": 58,
      "outputs": [
        {
          "output_type": "execute_result",
          "data": {
            "text/html": [
              "<div>\n",
              "<style scoped>\n",
              "    .dataframe tbody tr th:only-of-type {\n",
              "        vertical-align: middle;\n",
              "    }\n",
              "\n",
              "    .dataframe tbody tr th {\n",
              "        vertical-align: top;\n",
              "    }\n",
              "\n",
              "    .dataframe thead th {\n",
              "        text-align: right;\n",
              "    }\n",
              "</style>\n",
              "<table border=\"1\" class=\"dataframe\">\n",
              "  <thead>\n",
              "    <tr style=\"text-align: right;\">\n",
              "      <th></th>\n",
              "      <th>PatientId</th>\n",
              "      <th>ScheduledDay</th>\n",
              "      <th>AppointmentDay</th>\n",
              "      <th>Age</th>\n",
              "      <th>Neighbourhood</th>\n",
              "      <th>Scholarship</th>\n",
              "      <th>Hipertension</th>\n",
              "      <th>Diabetes</th>\n",
              "      <th>Alcoholism</th>\n",
              "      <th>Handcap</th>\n",
              "      <th>SMS_received</th>\n",
              "      <th>No-show</th>\n",
              "      <th>Is_male</th>\n",
              "      <th>AppointmentWOD</th>\n",
              "      <th>ScheduledHour</th>\n",
              "      <th>ScheduledWOD</th>\n",
              "      <th>day_diff</th>\n",
              "      <th>Neighbourhoods_show</th>\n",
              "    </tr>\n",
              "  </thead>\n",
              "  <tbody>\n",
              "    <tr>\n",
              "      <th>0</th>\n",
              "      <td>0.000000</td>\n",
              "      <td>2016-04-29</td>\n",
              "      <td>2016-04-29</td>\n",
              "      <td>62</td>\n",
              "      <td>JARDIM DA PENHA</td>\n",
              "      <td>0</td>\n",
              "      <td>1</td>\n",
              "      <td>0</td>\n",
              "      <td>0</td>\n",
              "      <td>0</td>\n",
              "      <td>0</td>\n",
              "      <td>0</td>\n",
              "      <td>0</td>\n",
              "      <td>4</td>\n",
              "      <td>18</td>\n",
              "      <td>4</td>\n",
              "      <td>0</td>\n",
              "      <td>0.194077</td>\n",
              "    </tr>\n",
              "    <tr>\n",
              "      <th>1</th>\n",
              "      <td>0.000000</td>\n",
              "      <td>2016-04-29</td>\n",
              "      <td>2016-04-29</td>\n",
              "      <td>56</td>\n",
              "      <td>JARDIM DA PENHA</td>\n",
              "      <td>0</td>\n",
              "      <td>0</td>\n",
              "      <td>0</td>\n",
              "      <td>0</td>\n",
              "      <td>0</td>\n",
              "      <td>0</td>\n",
              "      <td>0</td>\n",
              "      <td>1</td>\n",
              "      <td>4</td>\n",
              "      <td>16</td>\n",
              "      <td>4</td>\n",
              "      <td>0</td>\n",
              "      <td>0.194077</td>\n",
              "    </tr>\n",
              "    <tr>\n",
              "      <th>2</th>\n",
              "      <td>0.200000</td>\n",
              "      <td>2016-04-29</td>\n",
              "      <td>2016-04-29</td>\n",
              "      <td>62</td>\n",
              "      <td>MATA DA PRAIA</td>\n",
              "      <td>0</td>\n",
              "      <td>0</td>\n",
              "      <td>0</td>\n",
              "      <td>0</td>\n",
              "      <td>0</td>\n",
              "      <td>0</td>\n",
              "      <td>0</td>\n",
              "      <td>0</td>\n",
              "      <td>4</td>\n",
              "      <td>16</td>\n",
              "      <td>4</td>\n",
              "      <td>0</td>\n",
              "      <td>0.211039</td>\n",
              "    </tr>\n",
              "    <tr>\n",
              "      <th>3</th>\n",
              "      <td>0.500000</td>\n",
              "      <td>2016-04-29</td>\n",
              "      <td>2016-04-29</td>\n",
              "      <td>8</td>\n",
              "      <td>PONTAL DE CAMBURI</td>\n",
              "      <td>0</td>\n",
              "      <td>0</td>\n",
              "      <td>0</td>\n",
              "      <td>0</td>\n",
              "      <td>0</td>\n",
              "      <td>0</td>\n",
              "      <td>0</td>\n",
              "      <td>0</td>\n",
              "      <td>4</td>\n",
              "      <td>17</td>\n",
              "      <td>4</td>\n",
              "      <td>0</td>\n",
              "      <td>0.230769</td>\n",
              "    </tr>\n",
              "    <tr>\n",
              "      <th>4</th>\n",
              "      <td>0.000000</td>\n",
              "      <td>2016-04-29</td>\n",
              "      <td>2016-04-29</td>\n",
              "      <td>56</td>\n",
              "      <td>JARDIM DA PENHA</td>\n",
              "      <td>0</td>\n",
              "      <td>1</td>\n",
              "      <td>1</td>\n",
              "      <td>0</td>\n",
              "      <td>0</td>\n",
              "      <td>0</td>\n",
              "      <td>0</td>\n",
              "      <td>0</td>\n",
              "      <td>4</td>\n",
              "      <td>16</td>\n",
              "      <td>4</td>\n",
              "      <td>0</td>\n",
              "      <td>0.194077</td>\n",
              "    </tr>\n",
              "    <tr>\n",
              "      <th>...</th>\n",
              "      <td>...</td>\n",
              "      <td>...</td>\n",
              "      <td>...</td>\n",
              "      <td>...</td>\n",
              "      <td>...</td>\n",
              "      <td>...</td>\n",
              "      <td>...</td>\n",
              "      <td>...</td>\n",
              "      <td>...</td>\n",
              "      <td>...</td>\n",
              "      <td>...</td>\n",
              "      <td>...</td>\n",
              "      <td>...</td>\n",
              "      <td>...</td>\n",
              "      <td>...</td>\n",
              "      <td>...</td>\n",
              "      <td>...</td>\n",
              "      <td>...</td>\n",
              "    </tr>\n",
              "    <tr>\n",
              "      <th>110522</th>\n",
              "      <td>1.000000</td>\n",
              "      <td>2016-05-03</td>\n",
              "      <td>2016-06-07</td>\n",
              "      <td>56</td>\n",
              "      <td>MARIA ORTIZ</td>\n",
              "      <td>0</td>\n",
              "      <td>0</td>\n",
              "      <td>0</td>\n",
              "      <td>0</td>\n",
              "      <td>0</td>\n",
              "      <td>1</td>\n",
              "      <td>0</td>\n",
              "      <td>0</td>\n",
              "      <td>1</td>\n",
              "      <td>9</td>\n",
              "      <td>1</td>\n",
              "      <td>35</td>\n",
              "      <td>0.258309</td>\n",
              "    </tr>\n",
              "    <tr>\n",
              "      <th>110523</th>\n",
              "      <td>0.333333</td>\n",
              "      <td>2016-05-03</td>\n",
              "      <td>2016-06-07</td>\n",
              "      <td>51</td>\n",
              "      <td>MARIA ORTIZ</td>\n",
              "      <td>0</td>\n",
              "      <td>0</td>\n",
              "      <td>0</td>\n",
              "      <td>0</td>\n",
              "      <td>0</td>\n",
              "      <td>1</td>\n",
              "      <td>0</td>\n",
              "      <td>0</td>\n",
              "      <td>1</td>\n",
              "      <td>7</td>\n",
              "      <td>1</td>\n",
              "      <td>35</td>\n",
              "      <td>0.258309</td>\n",
              "    </tr>\n",
              "    <tr>\n",
              "      <th>110524</th>\n",
              "      <td>0.000000</td>\n",
              "      <td>2016-04-27</td>\n",
              "      <td>2016-06-07</td>\n",
              "      <td>21</td>\n",
              "      <td>MARIA ORTIZ</td>\n",
              "      <td>0</td>\n",
              "      <td>0</td>\n",
              "      <td>0</td>\n",
              "      <td>0</td>\n",
              "      <td>0</td>\n",
              "      <td>1</td>\n",
              "      <td>0</td>\n",
              "      <td>0</td>\n",
              "      <td>1</td>\n",
              "      <td>16</td>\n",
              "      <td>2</td>\n",
              "      <td>41</td>\n",
              "      <td>0.258309</td>\n",
              "    </tr>\n",
              "    <tr>\n",
              "      <th>110525</th>\n",
              "      <td>0.000000</td>\n",
              "      <td>2016-04-27</td>\n",
              "      <td>2016-06-07</td>\n",
              "      <td>38</td>\n",
              "      <td>MARIA ORTIZ</td>\n",
              "      <td>0</td>\n",
              "      <td>0</td>\n",
              "      <td>0</td>\n",
              "      <td>0</td>\n",
              "      <td>0</td>\n",
              "      <td>1</td>\n",
              "      <td>0</td>\n",
              "      <td>0</td>\n",
              "      <td>1</td>\n",
              "      <td>15</td>\n",
              "      <td>2</td>\n",
              "      <td>41</td>\n",
              "      <td>0.258309</td>\n",
              "    </tr>\n",
              "    <tr>\n",
              "      <th>110526</th>\n",
              "      <td>0.000000</td>\n",
              "      <td>2016-04-27</td>\n",
              "      <td>2016-06-07</td>\n",
              "      <td>54</td>\n",
              "      <td>MARIA ORTIZ</td>\n",
              "      <td>0</td>\n",
              "      <td>0</td>\n",
              "      <td>0</td>\n",
              "      <td>0</td>\n",
              "      <td>0</td>\n",
              "      <td>1</td>\n",
              "      <td>0</td>\n",
              "      <td>0</td>\n",
              "      <td>1</td>\n",
              "      <td>13</td>\n",
              "      <td>2</td>\n",
              "      <td>41</td>\n",
              "      <td>0.258309</td>\n",
              "    </tr>\n",
              "  </tbody>\n",
              "</table>\n",
              "<p>110522 rows × 18 columns</p>\n",
              "</div>"
            ],
            "text/plain": [
              "        PatientId ScheduledDay  ... day_diff  Neighbourhoods_show\n",
              "0        0.000000   2016-04-29  ...        0             0.194077\n",
              "1        0.000000   2016-04-29  ...        0             0.194077\n",
              "2        0.200000   2016-04-29  ...        0             0.211039\n",
              "3        0.500000   2016-04-29  ...        0             0.230769\n",
              "4        0.000000   2016-04-29  ...        0             0.194077\n",
              "...           ...          ...  ...      ...                  ...\n",
              "110522   1.000000   2016-05-03  ...       35             0.258309\n",
              "110523   0.333333   2016-05-03  ...       35             0.258309\n",
              "110524   0.000000   2016-04-27  ...       41             0.258309\n",
              "110525   0.000000   2016-04-27  ...       41             0.258309\n",
              "110526   0.000000   2016-04-27  ...       41             0.258309\n",
              "\n",
              "[110522 rows x 18 columns]"
            ]
          },
          "metadata": {},
          "execution_count": 58
        }
      ]
    },
    {
      "cell_type": "markdown",
      "metadata": {
        "id": "FYWzCBe7yks8"
      },
      "source": [
        "Now lets check the correlation"
      ]
    },
    {
      "cell_type": "code",
      "metadata": {
        "id": "kglz9p8Z8cqm",
        "colab": {
          "base_uri": "https://localhost:8080/",
          "height": 332
        },
        "outputId": "c7bdbdb4-9102-4946-bb52-d070c131afd3"
      },
      "source": [
        "sns.set_theme(style=\"white\")\n",
        "\n",
        "corr = data_new[['Neighbourhoods_show', 'No-show']].corr()  # Create the pearson correlation metrix object\n",
        "\n",
        "fig, ax = plt.subplots(figsize=(3,3)) # create the figure\n",
        "\n",
        "sns.heatmap(corr, annot=True, cmap='Greens', annot_kws={'rotation':45}) # Draw the heatmap\n",
        "\n",
        "plt.show()"
      ],
      "execution_count": 59,
      "outputs": [
        {
          "output_type": "display_data",
          "data": {
            "image/png": "[encoded data removed]",
            "text/plain": [
              "<Figure size 216x216 with 2 Axes>"
            ]
          },
          "metadata": {}
        }
      ]
    },
    {
      "cell_type": "markdown",
      "metadata": {
        "id": "OqpwBprzyoa2"
      },
      "source": [
        "And apply the models"
      ]
    },
    {
      "cell_type": "code",
      "metadata": {
        "colab": {
          "base_uri": "https://localhost:8080/"
        },
        "id": "VfFkiHMby50J",
        "outputId": "e97c9c97-2ad3-41de-ef8e-6ba4a34ae581"
      },
      "source": [
        "data_new.isnull().sum()"
      ],
      "execution_count": 60,
      "outputs": [
        {
          "output_type": "execute_result",
          "data": {
            "text/plain": [
              "PatientId              0\n",
              "ScheduledDay           0\n",
              "AppointmentDay         0\n",
              "Age                    0\n",
              "Neighbourhood          0\n",
              "Scholarship            0\n",
              "Hipertension           0\n",
              "Diabetes               0\n",
              "Alcoholism             0\n",
              "Handcap                0\n",
              "SMS_received           0\n",
              "No-show                0\n",
              "Is_male                0\n",
              "AppointmentWOD         0\n",
              "ScheduledHour          0\n",
              "ScheduledWOD           0\n",
              "day_diff               0\n",
              "Neighbourhoods_show    2\n",
              "dtype: int64"
            ]
          },
          "metadata": {},
          "execution_count": 60
        }
      ]
    },
    {
      "cell_type": "code",
      "metadata": {
        "id": "R6hCqrcMzCfq"
      },
      "source": [
        "# drop null value\n",
        "\n",
        "data_new = data_new.dropna()"
      ],
      "execution_count": 61,
      "outputs": []
    },
    {
      "cell_type": "code",
      "metadata": {
        "colab": {
          "base_uri": "https://localhost:8080/",
          "height": 164
        },
        "id": "CEKvgob0yroz",
        "outputId": "4c11498a-1c2c-48c3-c4fc-44f2529d3b6a"
      },
      "source": [
        "result = randomForest_logisticRegression (data_new)\n",
        "result[0]"
      ],
      "execution_count": 62,
      "outputs": [
        {
          "output_type": "stream",
          "name": "stdout",
          "text": [
            "optimal max depth: 15\n",
            "Random forest with 100 estimators\n",
            "\n"
          ]
        },
        {
          "output_type": "execute_result",
          "data": {
            "text/html": [
              "<div>\n",
              "<style scoped>\n",
              "    .dataframe tbody tr th:only-of-type {\n",
              "        vertical-align: middle;\n",
              "    }\n",
              "\n",
              "    .dataframe tbody tr th {\n",
              "        vertical-align: top;\n",
              "    }\n",
              "\n",
              "    .dataframe thead th {\n",
              "        text-align: right;\n",
              "    }\n",
              "</style>\n",
              "<table border=\"1\" class=\"dataframe\">\n",
              "  <thead>\n",
              "    <tr style=\"text-align: right;\">\n",
              "      <th></th>\n",
              "      <th>F1_score</th>\n",
              "      <th>ROC-AUC</th>\n",
              "    </tr>\n",
              "  </thead>\n",
              "  <tbody>\n",
              "    <tr>\n",
              "      <th>LogisticRegression</th>\n",
              "      <td>0.508886</td>\n",
              "      <td>0.781779</td>\n",
              "    </tr>\n",
              "    <tr>\n",
              "      <th>RandomForest</th>\n",
              "      <td>0.554237</td>\n",
              "      <td>0.820200</td>\n",
              "    </tr>\n",
              "  </tbody>\n",
              "</table>\n",
              "</div>"
            ],
            "text/plain": [
              "                    F1_score   ROC-AUC\n",
              "LogisticRegression  0.508886  0.781779\n",
              "RandomForest        0.554237  0.820200"
            ]
          },
          "metadata": {},
          "execution_count": 62
        }
      ]
    },
    {
      "cell_type": "code",
      "metadata": {
        "colab": {
          "base_uri": "https://localhost:8080/",
          "height": 301
        },
        "id": "sl4iAYBIzphd",
        "outputId": "4250bcf3-1655-4d7d-a27b-e7be067b0cf9"
      },
      "source": [
        "# plot roc-auc graph\n",
        "\n",
        "fpr, tpr, thresholds = roc_curve(result[1], result[2])\n",
        "\n",
        "plt.figure()\n",
        "\n",
        "# plot the graph \n",
        "plt.plot(fpr, tpr)\n",
        "plt.title(\"ROC curve Random Forest\")\n",
        "\n",
        "# ROC curve for random model (looks like a straight line)\n",
        "plt.plot([0, 1], [0, 1], linestyle='--')\n",
        "\n",
        "#  use the functions plt.xlim() and plt.ylim() to set the boundary for the axes from 0 to 1 \n",
        "\n",
        "plt.xlim([0.0,1.0])\n",
        "plt.ylim([0.0,1.0])\n",
        "\n",
        "# use the functions plt.xlabel() and plt.ylabel() to name the axes \"False Positive Rate\" and \"True Positive Rate\" \n",
        "\n",
        "plt.xlabel(\"False Positive Rate\")\n",
        "plt.ylabel(\"True Positive Rate\")\n",
        "\n",
        "plt.show()"
      ],
      "execution_count": 63,
      "outputs": [
        {
          "output_type": "display_data",
          "data": {
            "image/png": "[encoded data removed]",
            "text/plain": [
              "<Figure size 432x288 with 1 Axes>"
            ]
          },
          "metadata": {}
        }
      ]
    },
    {
      "cell_type": "markdown",
      "metadata": {
        "id": "AiejVgHszefw"
      },
      "source": [
        "Very nice! I achieve nice improvment thanks to feature engineering. Lets try last model with the data_new dataset. I will apply knn and check if results improved. "
      ]
    },
    {
      "cell_type": "code",
      "metadata": {
        "id": "0zNhLiQf0l-U"
      },
      "source": [
        "# Split the data into train, validation and test\n",
        "\n",
        "target = data_new['No-show']\n",
        "try:\n",
        "  features = data_new.drop(['No-show', 'Neighbourhood', 'ScheduledDay', 'AppointmentDay'], axis=1)\n",
        "except:\n",
        "  features = data_new.drop(['No-show'], axis=1)\n",
        "\n",
        "features_train_valid, features_test, target_train_valid, target_test = train_test_split(\n",
        "    features, target, test_size=0.20, random_state=state\n",
        ")\n",
        "\n",
        "features_train, features_valid, target_train, target_valid = train_test_split(\n",
        "    features_train_valid, target_train_valid, test_size=0.25, random_state=state\n",
        ")\n",
        "\n",
        "  # PCA for dimensionality reduce\n",
        "\n",
        "pca = PCA(n_components=3)\n",
        "\n",
        "features_train = pca.fit_transform(features_train)\n",
        "features_valid = pca.transform(features_valid)\n",
        "\n",
        "features_train_valid = pca.fit_transform(features_train_valid)\n",
        "features_test = pca.transform(features_test)\n",
        "  \n",
        "  # apply standard scaler\n",
        "\n",
        "scaler = StandardScaler()\n",
        "\n",
        "scaler.fit(features_train)\n",
        "features_train = scaler.transform(features_train)\n",
        "features_valid = scaler.transform(features_valid)\n",
        "\n",
        "scaler.fit(features_train_valid)\n",
        "features_train_valid = scaler.transform(features_train_valid)\n",
        "features_test = scaler.transform(features_test)"
      ],
      "execution_count": 64,
      "outputs": []
    },
    {
      "cell_type": "code",
      "metadata": {
        "id": "utK3RlPd9OOS",
        "colab": {
          "base_uri": "https://localhost:8080/"
        },
        "outputId": "685fa98c-9dbe-4239-81ba-4f1488b8f22a"
      },
      "source": [
        "# apply knn model\n",
        "\n",
        "for n in range(1,29,2):\n",
        "  model = KNeighborsClassifier(n_neighbors=n, weights='distance')\n",
        "  model.fit(features_train, target_train)\n",
        "  predicted_valid = model.predict(features_valid)\n",
        "  print(\"n_neighbors is:\", n, \"f1 score is:\", f1_score(target_valid, predicted_valid), \"roc auc score is:\", roc_auc_score(target_valid, predicted_valid))"
      ],
      "execution_count": 65,
      "outputs": [
        {
          "output_type": "stream",
          "name": "stdout",
          "text": [
            "n_neighbors is: 1 f1 score is: 0.3388467723409143 roc auc score is: 0.5871146995148309\n",
            "n_neighbors is: 3 f1 score is: 0.3197236955717281 roc auc score is: 0.5788404147755781\n",
            "n_neighbors is: 5 f1 score is: 0.31344430217669655 roc auc score is: 0.5770990054381859\n",
            "n_neighbors is: 7 f1 score is: 0.30656552445723256 roc auc score is: 0.5744119407865351\n",
            "n_neighbors is: 9 f1 score is: 0.30210427556627795 roc auc score is: 0.573305869602519\n",
            "n_neighbors is: 11 f1 score is: 0.29443152278013407 roc auc score is: 0.570420092805025\n",
            "n_neighbors is: 13 f1 score is: 0.2935703374531315 roc auc score is: 0.5707990767320026\n",
            "n_neighbors is: 15 f1 score is: 0.2912265878045346 roc auc score is: 0.5703878540484666\n",
            "n_neighbors is: 17 f1 score is: 0.2852651136201229 roc auc score is: 0.5682575965917717\n",
            "n_neighbors is: 19 f1 score is: 0.28121842067272984 roc auc score is: 0.5668562946586643\n",
            "n_neighbors is: 21 f1 score is: 0.2769365171811299 roc auc score is: 0.5652845851367473\n",
            "n_neighbors is: 23 f1 score is: 0.2748898678414097 roc auc score is: 0.564812111366285\n",
            "n_neighbors is: 25 f1 score is: 0.2699822380106572 roc auc score is: 0.5629579365206385\n",
            "n_neighbors is: 27 f1 score is: 0.26795539033457244 roc auc score is: 0.5622850098645111\n"
          ]
        }
      ]
    },
    {
      "cell_type": "code",
      "metadata": {
        "id": "C_qqIFk1omdb",
        "colab": {
          "base_uri": "https://localhost:8080/"
        },
        "outputId": "13120b23-98d9-45ca-bfb3-f21db684f330"
      },
      "source": [
        "model = KNeighborsClassifier(n_neighbors=5, weights='distance')\n",
        "model.fit(features_train_valid, target_train_valid)\n",
        "predicted_test = model.predict(features_test)\n",
        "\n",
        "print(\"f1 score is:\", f1_score(target_test, predicted_test))\n",
        "print(\"roc auc score is:\", roc_auc_score(target_test, model.predict_proba(features_test)[:,1]))"
      ],
      "execution_count": 66,
      "outputs": [
        {
          "output_type": "stream",
          "name": "stdout",
          "text": [
            "f1 score is: 0.33619296282481664\n",
            "roc auc score is: 0.6859429189506798\n"
          ]
        }
      ]
    },
    {
      "cell_type": "markdown",
      "metadata": {
        "id": "b9TetHET24zR"
      },
      "source": [
        "Well, this results is not better than the previous one. So our best results achieved using Random Forest, where we get F1 score of 0.55 and ROC-AUC of 0.82."
      ]
    },
    {
      "cell_type": "markdown",
      "metadata": {
        "id": "612H1XFmHUKb"
      },
      "source": [
        "## Conclusion"
      ]
    },
    {
      "cell_type": "markdown",
      "metadata": {
        "id": "a3r-I7fWYIZh"
      },
      "source": [
        "In this project I try to predict if some patient would not arrive to an appointment he scheduled. This is a binary classification task. Since the data is imbalanced (80:20) accuracy score is not useful and the metrix I used are F1 score and ROC-AUC.\n",
        "\n",
        "I began the analysis by preprocessing the data including transform categorical to numerical features, filter out problematic rows, tranform object type datas to datatime dates and calculate time difference between scheduled and appointments datas.\n",
        "\n",
        "Then I move to EDA which helps to fill the data from in between. I see that there is correleation between sms received to no-show and between day_diff to no-show. In addition I explored the distributions of age, Neighbourhoods, and all of the binary features (diabetes, gender etc.)\n",
        "\n",
        "This investigation prepare the ground to build models and make predictions. I started with baseline model that use the available features, and achieved results of ~0.44 f1 and ~0.73 AUC. The prefareable model was Random Forest. Then I try to encode the Neighbourhood feature using OHE then reduce dimensionality using PCA and fency AutoEncoder but the results was not improved.\n",
        "\n",
        "It seems that using high level techniques would not help in this situation and what should I do is to create better features. So I engineer the patientIs so that it include the historical of no-show percentage per patient. Important to note: In order to avoid data leakage I create this feature using the training set only, then apply the results to complete data set. This way, the \"unknown\" target variables of the validation and test sets is not part of creating the feature.\n",
        "\n",
        "However, This new feature was not so helpful. Only when I combined it with another new feature of relation of no-show per neighbourhood (using the same process) I succeed to sagnificantly improve the predictions quality to f1 score of ~0.55, and AUC of ~0.82. Seems good!\n",
        "\n",
        "Exactly as in the quote from the begining, I reveal that its all about feature engineering."
      ]
    }
  ]
}